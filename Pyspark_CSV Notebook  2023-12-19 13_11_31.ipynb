{
 "cells": [
  {
   "cell_type": "code",
   "execution_count": 0,
   "metadata": {
    "application/vnd.databricks.v1+cell": {
     "cellMetadata": {
      "byteLimit": 2048000,
      "rowLimit": 10000
     },
     "inputWidgets": {},
     "nuid": "3a66aa40-4c1a-4385-9c98-53dd00421b0c",
     "showTitle": false,
     "title": ""
    }
   },
   "outputs": [
    {
     "output_type": "stream",
     "name": "stdout",
     "output_type": "stream",
     "text": [
      "Python interpreter will be restarted.\nCollecting spark\n  Downloading spark-0.2.1.tar.gz (41 kB)\nBuilding wheels for collected packages: spark\n  Building wheel for spark (setup.py): started\n  Building wheel for spark (setup.py): finished with status 'done'\n  Created wheel for spark: filename=spark-0.2.1-py3-none-any.whl size=58763 sha256=d104880e608f4115bee4e45505d1b14b3bbbb11b240a66ea65843c97a52ebf88\n  Stored in directory: /root/.cache/pip/wheels/bc/0f/6c/b41528ca0fd4d46513185e90da91bc1c484bba6138641c5a62\nSuccessfully built spark\nInstalling collected packages: spark\nSuccessfully installed spark-0.2.1\nPython interpreter will be restarted.\n"
     ]
    }
   ],
   "source": [
    "pip install spark\n"
   ]
  },
  {
   "cell_type": "code",
   "execution_count": 0,
   "metadata": {
    "application/vnd.databricks.v1+cell": {
     "cellMetadata": {
      "byteLimit": 2048000,
      "rowLimit": 10000
     },
     "inputWidgets": {},
     "nuid": "27582d8d-8f34-4503-8dba-e5b21e5f03d2",
     "showTitle": false,
     "title": ""
    }
   },
   "outputs": [],
   "source": [
    "import pyspark"
   ]
  },
  {
   "cell_type": "code",
   "execution_count": 0,
   "metadata": {
    "application/vnd.databricks.v1+cell": {
     "cellMetadata": {
      "byteLimit": 2048000,
      "rowLimit": 10000
     },
     "inputWidgets": {},
     "nuid": "9d7a0da7-d591-4917-9c74-51f154af2e66",
     "showTitle": false,
     "title": ""
    }
   },
   "outputs": [],
   "source": [
    "from pyspark.sql import SparkSession"
   ]
  },
  {
   "cell_type": "code",
   "execution_count": 0,
   "metadata": {
    "application/vnd.databricks.v1+cell": {
     "cellMetadata": {
      "byteLimit": 2048000,
      "rowLimit": 10000
     },
     "inputWidgets": {},
     "nuid": "c52f09ba-3618-4399-aa8c-65b603666887",
     "showTitle": false,
     "title": ""
    }
   },
   "outputs": [],
   "source": [
    "spark= SparkSession.builder.appName('First_ETL_CSV').getOrCreate()"
   ]
  },
  {
   "cell_type": "code",
   "execution_count": 0,
   "metadata": {
    "application/vnd.databricks.v1+cell": {
     "cellMetadata": {
      "byteLimit": 2048000,
      "rowLimit": 10000
     },
     "inputWidgets": {},
     "nuid": "928ba256-1e89-47f1-afb8-efe1697dc524",
     "showTitle": false,
     "title": ""
    }
   },
   "outputs": [],
   "source": [
    "#Importing the csv file,InferScehma is all string\n",
    "spark_df=spark.read.csv(\"dbfs:/FileStore/Pyspark_csv.csv\",header='True',inferSchema='True')"
   ]
  },
  {
   "cell_type": "code",
   "execution_count": 0,
   "metadata": {
    "application/vnd.databricks.v1+cell": {
     "cellMetadata": {
      "byteLimit": 2048000,
      "rowLimit": 10000
     },
     "inputWidgets": {},
     "nuid": "8a841c49-9e64-4272-b467-0369b452ce1d",
     "showTitle": false,
     "title": ""
    }
   },
   "outputs": [
    {
     "output_type": "display_data",
     "data": {
      "text/html": [
       "<style scoped>\n",
       "  .table-result-container {\n",
       "    max-height: 300px;\n",
       "    overflow: auto;\n",
       "  }\n",
       "  table, th, td {\n",
       "    border: 1px solid black;\n",
       "    border-collapse: collapse;\n",
       "  }\n",
       "  th, td {\n",
       "    padding: 5px;\n",
       "  }\n",
       "  th {\n",
       "    text-align: left;\n",
       "  }\n",
       "</style><div class='table-result-container'><table class='table-result'><thead style='background-color: white'><tr><th>Name</th><th>Country</th><th>Company</th><th>Experience</th><th>Salary</th><th>date of joining</th><th>Department</th></tr></thead><tbody><tr><td>Luke Hanson</td><td>Sydney</td><td>Eu Elit Limited</td><td>1.3</td><td>46205</td><td>Dec 13, 2023</td><td>HR</td></tr><tr><td>Katelyn Crawford</td><td>Manisa</td><td>Eu Ultrices Industries</td><td>1.5</td><td>37731</td><td>Jan 12, 2023</td><td>Finance</td></tr><tr><td>Aladdin Rios</td><td>Kohima</td><td>Lacinia Orci Foundation</td><td>2</td><td>43525</td><td>Jul 15, 2023</td><td>Sales</td></tr><tr><td>Zachary Wiley</td><td>Smolensk</td><td>Lorem Luctus Ut Ltd</td><td>2.2</td><td>39891</td><td>Jun 11, 2024</td><td>Software Engineer</td></tr><tr><td>Alfonso Sharpe</td><td>Montone</td><td>Mi LLC</td><td>2.9</td><td>56642</td><td>Mar 26, 2024</td><td>Data Engineer</td></tr><tr><td>Mary Kerr</td><td>Cañas</td><td>Nulla Eget LLC</td><td>3</td><td>60150</td><td>Jan 16, 2024</td><td>Analyst</td></tr><tr><td>Lamar Paul</td><td>Veere</td><td>Aenean Egestas Hendrerit Limited</td><td>3.2</td><td>54445</td><td>Feb 11, 2024</td><td>Reception</td></tr><tr><td>Rhiannon Cleveland</td><td>Gasteiz</td><td>Tincidunt Dui Associates</td><td>3.2</td><td>64445</td><td>Oct 4, 2023</td><td>HR</td></tr><tr><td>Gloria Richmond</td><td>Rotorua</td><td>Sit Amet Institute</td><td>3.7</td><td>57189</td><td>Sep 14, 2023</td><td>Finance</td></tr><tr><td>Germane Whitley</td><td>Anhui</td><td>Vulputate Foundation</td><td>3.9</td><td>63218</td><td>Nov 13, 2024</td><td>Sales</td></tr><tr><td>Teegan Larson</td><td>Hastings</td><td>Ut Tincidunt Associates</td><td>4</td><td>55794</td><td>May 30, 2023</td><td>Software Engineer</td></tr><tr><td>Jesse Cannon</td><td>Blois</td><td>Fringilla Cursus Ltd</td><td>4</td><td>56957</td><td>Jul 17, 2024</td><td>Data Engineer</td></tr><tr><td>Lareina Wade</td><td>Gijón</td><td>Erat Volutpat Nulla Ltd</td><td>4.1</td><td>57081</td><td>Jun 16, 2024</td><td>Analyst</td></tr><tr><td>Reuben Becker</td><td>Boryspil</td><td>Orci Lacus LLP</td><td>4.5</td><td>61111</td><td>Jul 19, 2023</td><td>Reception</td></tr><tr><td>Akeem Watson</td><td>Fremantle</td><td>Aliquet Diam LLP</td><td>4.9</td><td>67938</td><td>Nov 5, 2024</td><td>Manager</td></tr><tr><td>Branden Cline</td><td>Bolton</td><td>Aptent Taciti LLC</td><td>5.1</td><td>66029</td><td>Aug 9, 2024</td><td>HR</td></tr><tr><td>Breanna Juarez</td><td>San Clemente</td><td>Eget Venenatis Limited</td><td>5.3</td><td>83088</td><td>Jun 4, 2023</td><td>Manager</td></tr><tr><td>Leo Hill</td><td>Värnamo</td><td>Nisl PC</td><td>5.9</td><td>81363</td><td>May 26, 2023</td><td>Data Engineer</td></tr><tr><td>Iola Griffith</td><td>Kotli</td><td>Amet Diam Limited</td><td>6</td><td>93940</td><td>Aug 27, 2024</td><td>Analyst</td></tr><tr><td>Kyle Fitzpatrick</td><td>Osasco</td><td>Facilisis Lorem Inc.</td><td>6.8</td><td>91738</td><td>Oct 27, 2024</td><td>Manager</td></tr><tr><td>Cynthia Hicks</td><td>Bislig</td><td>Lectus Cum Industries</td><td>7.1</td><td>98273</td><td>Feb 24, 2024</td><td>Sales head</td></tr><tr><td>Geraldine Rutledge</td><td>Laakirchen</td><td>Dis Parturient Montes Institute</td><td>7.9</td><td>101302</td><td>May 16, 2024</td><td>Data Engineer</td></tr><tr><td>Hayfa Bush</td><td>Changi Bay</td><td>Erat In Associates</td><td>8.2</td><td>113812</td><td>Nov 21, 2023</td><td>Analyst</td></tr><tr><td>Teegan Wallace</td><td>Chía</td><td>Eleifend Industries</td><td>8.7</td><td>109431</td><td>Jul 29, 2024</td><td>Data Engineer</td></tr><tr><td>Adara Hardin</td><td>Ulyanovsk</td><td>Porttitor Scelerisque Limited</td><td>9</td><td>105582</td><td>Oct 16, 2023</td><td>Analyst</td></tr><tr><td>Kim Carson</td><td>Kraków</td><td>Tempor Corporation</td><td>9.5</td><td>116969</td><td>Dec 22, 2022</td><td>Manager</td></tr><tr><td>Eagan Kline</td><td>San Andrés</td><td>Ridiculus Mus Foundation</td><td>9.6</td><td>112635</td><td>Sep 10, 2023</td><td>HR</td></tr><tr><td>Karen Newman</td><td>Chonchi</td><td>Blandit Viverra PC</td><td>10.3</td><td>122391</td><td>May 17, 2024</td><td>Sales head</td></tr><tr><td>Dennis Potts</td><td>Hudiksvall</td><td>Pellentesque Tellus Consulting</td><td>10.5</td><td>121872</td><td>Nov 9, 2024</td><td>Sales</td></tr><tr><td>Amity Hodges</td><td>Banjar</td><td>Mauris Rhoncus Id Industries</td><td>Null</td><td>Null</td><td>Oct 2, 2023</td><td>Software Engineer</td></tr><tr><td>Nadine Cantu</td><td>Vitória da Conquista</td><td>Ac Corporation</td><td>Null</td><td>Null</td><td>Jan 20, 2023</td><td>Sales head</td></tr><tr><td>Jerry Lyons</td><td>Mandal</td><td>Enim Suspendisse Company</td><td>Null</td><td>Null</td><td>Apr 2, 2024</td><td>Finance</td></tr><tr><td>Howard Beck</td><td>Rockingham</td><td>Mauris Eu Turpis Corporation</td><td>Null</td><td>Null</td><td>Aug 13, 2023</td><td>Sales</td></tr><tr><td>Medge Wolf</td><td>Güstrow</td><td>Nec LLC</td><td>Null</td><td>Null</td><td>Jan 25, 2023</td><td>Software Engineer</td></tr><tr><td>Rylee Love</td><td>Loncoche</td><td>Elit Curabitur Inc.</td><td>Null</td><td>Null</td><td>Feb 21, 2024</td><td>Data Engineer</td></tr><tr><td>Walter Ortega</td><td>Kotli</td><td>Metus Aliquam LLC</td><td>Null</td><td>Null</td><td>Oct 21, 2024</td><td>Analyst</td></tr><tr><td>Alan Fischer</td><td>Łomża</td><td>Fringilla Donec Corp.</td><td>Null</td><td>Null</td><td>Dec 11, 2023</td><td>Reception</td></tr><tr><td>Colleen George</td><td>Trollhättan</td><td>Arcu Sed Associates</td><td>Null</td><td>Null</td><td>Mar 13, 2024</td><td>Manager</td></tr><tr><td>Blake Ingram</td><td>Chakwal</td><td>Felis Donec LLC</td><td>Null</td><td>Null</td><td>Nov 7, 2024</td><td>HR</td></tr><tr><td>Lael Brooks</td><td>Linz</td><td>Dignissim Lacus Aliquam LLP</td><td>Null</td><td>Null</td><td>Aug 1, 2023</td><td>Software Engineer</td></tr></tbody></table></div>"
      ]
     },
     "metadata": {
      "application/vnd.databricks.v1+output": {
       "addedWidgets": {},
       "aggData": [],
       "aggError": "",
       "aggOverflow": false,
       "aggSchema": [],
       "aggSeriesLimitReached": false,
       "aggType": "",
       "arguments": {},
       "columnCustomDisplayInfos": {},
       "data": [
        [
         "Luke Hanson",
         "Sydney",
         "Eu Elit Limited",
         "1.3",
         "46205",
         "Dec 13, 2023",
         "HR"
        ],
        [
         "Katelyn Crawford",
         "Manisa",
         "Eu Ultrices Industries",
         "1.5",
         "37731",
         "Jan 12, 2023",
         "Finance"
        ],
        [
         "Aladdin Rios",
         "Kohima",
         "Lacinia Orci Foundation",
         "2",
         "43525",
         "Jul 15, 2023",
         "Sales"
        ],
        [
         "Zachary Wiley",
         "Smolensk",
         "Lorem Luctus Ut Ltd",
         "2.2",
         "39891",
         "Jun 11, 2024",
         "Software Engineer"
        ],
        [
         "Alfonso Sharpe",
         "Montone",
         "Mi LLC",
         "2.9",
         "56642",
         "Mar 26, 2024",
         "Data Engineer"
        ],
        [
         "Mary Kerr",
         "Cañas",
         "Nulla Eget LLC",
         "3",
         "60150",
         "Jan 16, 2024",
         "Analyst"
        ],
        [
         "Lamar Paul",
         "Veere",
         "Aenean Egestas Hendrerit Limited",
         "3.2",
         "54445",
         "Feb 11, 2024",
         "Reception"
        ],
        [
         "Rhiannon Cleveland",
         "Gasteiz",
         "Tincidunt Dui Associates",
         "3.2",
         "64445",
         "Oct 4, 2023",
         "HR"
        ],
        [
         "Gloria Richmond",
         "Rotorua",
         "Sit Amet Institute",
         "3.7",
         "57189",
         "Sep 14, 2023",
         "Finance"
        ],
        [
         "Germane Whitley",
         "Anhui",
         "Vulputate Foundation",
         "3.9",
         "63218",
         "Nov 13, 2024",
         "Sales"
        ],
        [
         "Teegan Larson",
         "Hastings",
         "Ut Tincidunt Associates",
         "4",
         "55794",
         "May 30, 2023",
         "Software Engineer"
        ],
        [
         "Jesse Cannon",
         "Blois",
         "Fringilla Cursus Ltd",
         "4",
         "56957",
         "Jul 17, 2024",
         "Data Engineer"
        ],
        [
         "Lareina Wade",
         "Gijón",
         "Erat Volutpat Nulla Ltd",
         "4.1",
         "57081",
         "Jun 16, 2024",
         "Analyst"
        ],
        [
         "Reuben Becker",
         "Boryspil",
         "Orci Lacus LLP",
         "4.5",
         "61111",
         "Jul 19, 2023",
         "Reception"
        ],
        [
         "Akeem Watson",
         "Fremantle",
         "Aliquet Diam LLP",
         "4.9",
         "67938",
         "Nov 5, 2024",
         "Manager"
        ],
        [
         "Branden Cline",
         "Bolton",
         "Aptent Taciti LLC",
         "5.1",
         "66029",
         "Aug 9, 2024",
         "HR"
        ],
        [
         "Breanna Juarez",
         "San Clemente",
         "Eget Venenatis Limited",
         "5.3",
         "83088",
         "Jun 4, 2023",
         "Manager"
        ],
        [
         "Leo Hill",
         "Värnamo",
         "Nisl PC",
         "5.9",
         "81363",
         "May 26, 2023",
         "Data Engineer"
        ],
        [
         "Iola Griffith",
         "Kotli",
         "Amet Diam Limited",
         "6",
         "93940",
         "Aug 27, 2024",
         "Analyst"
        ],
        [
         "Kyle Fitzpatrick",
         "Osasco",
         "Facilisis Lorem Inc.",
         "6.8",
         "91738",
         "Oct 27, 2024",
         "Manager"
        ],
        [
         "Cynthia Hicks",
         "Bislig",
         "Lectus Cum Industries",
         "7.1",
         "98273",
         "Feb 24, 2024",
         "Sales head"
        ],
        [
         "Geraldine Rutledge",
         "Laakirchen",
         "Dis Parturient Montes Institute",
         "7.9",
         "101302",
         "May 16, 2024",
         "Data Engineer"
        ],
        [
         "Hayfa Bush",
         "Changi Bay",
         "Erat In Associates",
         "8.2",
         "113812",
         "Nov 21, 2023",
         "Analyst"
        ],
        [
         "Teegan Wallace",
         "Chía",
         "Eleifend Industries",
         "8.7",
         "109431",
         "Jul 29, 2024",
         "Data Engineer"
        ],
        [
         "Adara Hardin",
         "Ulyanovsk",
         "Porttitor Scelerisque Limited",
         "9",
         "105582",
         "Oct 16, 2023",
         "Analyst"
        ],
        [
         "Kim Carson",
         "Kraków",
         "Tempor Corporation",
         "9.5",
         "116969",
         "Dec 22, 2022",
         "Manager"
        ],
        [
         "Eagan Kline",
         "San Andrés",
         "Ridiculus Mus Foundation",
         "9.6",
         "112635",
         "Sep 10, 2023",
         "HR"
        ],
        [
         "Karen Newman",
         "Chonchi",
         "Blandit Viverra PC",
         "10.3",
         "122391",
         "May 17, 2024",
         "Sales head"
        ],
        [
         "Dennis Potts",
         "Hudiksvall",
         "Pellentesque Tellus Consulting",
         "10.5",
         "121872",
         "Nov 9, 2024",
         "Sales"
        ],
        [
         "Amity Hodges",
         "Banjar",
         "Mauris Rhoncus Id Industries",
         "Null",
         "Null",
         "Oct 2, 2023",
         "Software Engineer"
        ],
        [
         "Nadine Cantu",
         "Vitória da Conquista",
         "Ac Corporation",
         "Null",
         "Null",
         "Jan 20, 2023",
         "Sales head"
        ],
        [
         "Jerry Lyons",
         "Mandal",
         "Enim Suspendisse Company",
         "Null",
         "Null",
         "Apr 2, 2024",
         "Finance"
        ],
        [
         "Howard Beck",
         "Rockingham",
         "Mauris Eu Turpis Corporation",
         "Null",
         "Null",
         "Aug 13, 2023",
         "Sales"
        ],
        [
         "Medge Wolf",
         "Güstrow",
         "Nec LLC",
         "Null",
         "Null",
         "Jan 25, 2023",
         "Software Engineer"
        ],
        [
         "Rylee Love",
         "Loncoche",
         "Elit Curabitur Inc.",
         "Null",
         "Null",
         "Feb 21, 2024",
         "Data Engineer"
        ],
        [
         "Walter Ortega",
         "Kotli",
         "Metus Aliquam LLC",
         "Null",
         "Null",
         "Oct 21, 2024",
         "Analyst"
        ],
        [
         "Alan Fischer",
         "Łomża",
         "Fringilla Donec Corp.",
         "Null",
         "Null",
         "Dec 11, 2023",
         "Reception"
        ],
        [
         "Colleen George",
         "Trollhättan",
         "Arcu Sed Associates",
         "Null",
         "Null",
         "Mar 13, 2024",
         "Manager"
        ],
        [
         "Blake Ingram",
         "Chakwal",
         "Felis Donec LLC",
         "Null",
         "Null",
         "Nov 7, 2024",
         "HR"
        ],
        [
         "Lael Brooks",
         "Linz",
         "Dignissim Lacus Aliquam LLP",
         "Null",
         "Null",
         "Aug 1, 2023",
         "Software Engineer"
        ]
       ],
       "datasetInfos": [],
       "dbfsResultPath": null,
       "isJsonSchema": true,
       "metadata": {},
       "overflow": false,
       "plotOptions": {
        "customPlotOptions": {},
        "displayType": "table",
        "pivotAggregation": null,
        "pivotColumns": null,
        "xColumns": null,
        "yColumns": null
       },
       "removedWidgets": [],
       "schema": [
        {
         "metadata": "{}",
         "name": "Name",
         "type": "\"string\""
        },
        {
         "metadata": "{}",
         "name": "Country",
         "type": "\"string\""
        },
        {
         "metadata": "{}",
         "name": "Company",
         "type": "\"string\""
        },
        {
         "metadata": "{}",
         "name": "Experience",
         "type": "\"string\""
        },
        {
         "metadata": "{}",
         "name": "Salary",
         "type": "\"string\""
        },
        {
         "metadata": "{}",
         "name": "date of joining",
         "type": "\"string\""
        },
        {
         "metadata": "{}",
         "name": "Department",
         "type": "\"string\""
        }
       ],
       "type": "table"
      }
     },
     "output_type": "display_data"
    }
   ],
   "source": [
    "# show() - Shows all columns in the data using \n",
    "spark_df.display()"
   ]
  },
  {
   "cell_type": "code",
   "execution_count": 0,
   "metadata": {
    "application/vnd.databricks.v1+cell": {
     "cellMetadata": {
      "byteLimit": 2048000,
      "rowLimit": 10000
     },
     "inputWidgets": {},
     "nuid": "6a445d0d-48be-48fd-b771-d4ce96338e15",
     "showTitle": false,
     "title": ""
    }
   },
   "outputs": [],
   "source": [
    "\n",
    "# Cast - Converting datatype of 'Experience' and 'Salary' to Integer\n",
    "spark_df=spark_df.withColumn(\"Experience\",spark_df.Experience.cast(\"Integer\"))\n",
    "spark_df=spark_df.withColumn(\"Salary\",spark_df.Salary.cast(\"Integer\"))"
   ]
  },
  {
   "cell_type": "code",
   "execution_count": 0,
   "metadata": {
    "application/vnd.databricks.v1+cell": {
     "cellMetadata": {
      "byteLimit": 2048000,
      "rowLimit": 10000
     },
     "inputWidgets": {},
     "nuid": "224899dc-ea93-4e61-9968-57416184cd58",
     "showTitle": false,
     "title": ""
    }
   },
   "outputs": [
    {
     "output_type": "stream",
     "name": "stdout",
     "output_type": "stream",
     "text": [
      "root\n |-- Name: string (nullable = true)\n |-- Country: string (nullable = true)\n |-- Company: string (nullable = true)\n |-- Experience: integer (nullable = true)\n |-- Salary: integer (nullable = true)\n |-- date of joining: string (nullable = true)\n |-- Department: string (nullable = true)\n\n"
     ]
    }
   ],
   "source": [
    "spark_df.printSchema()"
   ]
  },
  {
   "cell_type": "code",
   "execution_count": 0,
   "metadata": {
    "application/vnd.databricks.v1+cell": {
     "cellMetadata": {
      "byteLimit": 2048000,
      "rowLimit": 10000
     },
     "inputWidgets": {},
     "nuid": "715af029-680c-4c6f-9fb3-e84abd4c5340",
     "showTitle": false,
     "title": ""
    }
   },
   "outputs": [
    {
     "output_type": "stream",
     "name": "stdout",
     "output_type": "stream",
     "text": [
      "Out[91]: [Row(Name='Luke Hanson', Country='Sydney', Company='Eu Elit Limited', Experience=1, Salary=46205, date of joining='Dec 13, 2023', Department='HR'),\n Row(Name='Katelyn Crawford', Country='Manisa', Company='Eu Ultrices Industries', Experience=1, Salary=37731, date of joining='Jan 12, 2023', Department='Finance'),\n Row(Name='Aladdin Rios', Country='Kohima', Company='Lacinia Orci Foundation', Experience=2, Salary=43525, date of joining='Jul 15, 2023', Department='Sales'),\n Row(Name='Zachary Wiley', Country='Smolensk', Company='Lorem Luctus Ut Ltd', Experience=2, Salary=39891, date of joining='Jun 11, 2024', Department='Software Engineer'),\n Row(Name='Alfonso Sharpe', Country='Montone', Company='Mi LLC', Experience=2, Salary=56642, date of joining='Mar 26, 2024', Department='Data Engineer')]"
     ]
    }
   ],
   "source": [
    "#head(5) - To select first 5 rows\n",
    "spark_df.head(5)\n"
   ]
  },
  {
   "cell_type": "code",
   "execution_count": 0,
   "metadata": {
    "application/vnd.databricks.v1+cell": {
     "cellMetadata": {
      "byteLimit": 2048000,
      "rowLimit": 10000
     },
     "inputWidgets": {},
     "nuid": "cbf7e6ed-fd99-418f-894e-66eebfdd0e08",
     "showTitle": false,
     "title": ""
    }
   },
   "outputs": [
    {
     "output_type": "stream",
     "name": "stdout",
     "output_type": "stream",
     "text": [
      "Out[40]: [Row(Name='Walter Ortega', Country='Kotli', Company='Metus Aliquam LLC', Experience=None, Salary=None, date of joining='Oct 21, 2024', Department='Analyst'),\n Row(Name='Alan Fischer', Country='Łomża', Company='Fringilla Donec Corp.', Experience=None, Salary=None, date of joining='Dec 11, 2023', Department='Reception'),\n Row(Name='Colleen George', Country='Trollhättan', Company='Arcu Sed Associates', Experience=None, Salary=None, date of joining='Mar 13, 2024', Department='Manager'),\n Row(Name='Blake Ingram', Country='Chakwal', Company='Felis Donec LLC', Experience=None, Salary=None, date of joining='Nov 7, 2024', Department='HR'),\n Row(Name='Lael Brooks', Country='Linz', Company='Dignissim Lacus Aliquam LLP', Experience=None, Salary=None, date of joining='Aug 1, 2023', Department='Software Engineer')]"
     ]
    }
   ],
   "source": [
    "#Tail() - To select last 5 rows\n",
    "spark_df.tail(5)"
   ]
  },
  {
   "cell_type": "code",
   "execution_count": 0,
   "metadata": {
    "application/vnd.databricks.v1+cell": {
     "cellMetadata": {
      "byteLimit": 2048000,
      "rowLimit": 10000
     },
     "inputWidgets": {},
     "nuid": "7b4c28fb-492d-4660-966f-634c71a23b13",
     "showTitle": false,
     "title": ""
    }
   },
   "outputs": [
    {
     "output_type": "display_data",
     "data": {
      "text/html": [
       "<style scoped>\n",
       "  .table-result-container {\n",
       "    max-height: 300px;\n",
       "    overflow: auto;\n",
       "  }\n",
       "  table, th, td {\n",
       "    border: 1px solid black;\n",
       "    border-collapse: collapse;\n",
       "  }\n",
       "  th, td {\n",
       "    padding: 5px;\n",
       "  }\n",
       "  th {\n",
       "    text-align: left;\n",
       "  }\n",
       "</style><div class='table-result-container'><table class='table-result'><thead style='background-color: white'><tr><th>Name</th><th>Country</th><th>Company</th><th>Experience</th><th>Salary</th><th>date of joining</th><th>Department</th></tr></thead><tbody><tr><td>Luke Hanson</td><td>Sydney</td><td>Eu Elit Limited</td><td>1</td><td>46205</td><td>Dec 13, 2023</td><td>HR</td></tr><tr><td>Katelyn Crawford</td><td>Manisa</td><td>Eu Ultrices Industries</td><td>1</td><td>37731</td><td>Jan 12, 2023</td><td>Finance</td></tr><tr><td>Aladdin Rios</td><td>Kohima</td><td>Lacinia Orci Foundation</td><td>2</td><td>43525</td><td>Jul 15, 2023</td><td>Sales</td></tr><tr><td>Zachary Wiley</td><td>Smolensk</td><td>Lorem Luctus Ut Ltd</td><td>2</td><td>39891</td><td>Jun 11, 2024</td><td>Software Engineer</td></tr><tr><td>Alfonso Sharpe</td><td>Montone</td><td>Mi LLC</td><td>2</td><td>56642</td><td>Mar 26, 2024</td><td>Data Engineer</td></tr><tr><td>Mary Kerr</td><td>Cañas</td><td>Nulla Eget LLC</td><td>3</td><td>60150</td><td>Jan 16, 2024</td><td>Analyst</td></tr><tr><td>Lamar Paul</td><td>Veere</td><td>Aenean Egestas Hendrerit Limited</td><td>3</td><td>54445</td><td>Feb 11, 2024</td><td>Reception</td></tr><tr><td>Rhiannon Cleveland</td><td>Gasteiz</td><td>Tincidunt Dui Associates</td><td>3</td><td>64445</td><td>Oct 4, 2023</td><td>HR</td></tr><tr><td>Gloria Richmond</td><td>Rotorua</td><td>Sit Amet Institute</td><td>3</td><td>57189</td><td>Sep 14, 2023</td><td>Finance</td></tr><tr><td>Germane Whitley</td><td>Anhui</td><td>Vulputate Foundation</td><td>3</td><td>63218</td><td>Nov 13, 2024</td><td>Sales</td></tr><tr><td>Teegan Larson</td><td>Hastings</td><td>Ut Tincidunt Associates</td><td>4</td><td>55794</td><td>May 30, 2023</td><td>Software Engineer</td></tr><tr><td>Jesse Cannon</td><td>Blois</td><td>Fringilla Cursus Ltd</td><td>4</td><td>56957</td><td>Jul 17, 2024</td><td>Data Engineer</td></tr><tr><td>Lareina Wade</td><td>Gijón</td><td>Erat Volutpat Nulla Ltd</td><td>4</td><td>57081</td><td>Jun 16, 2024</td><td>Analyst</td></tr><tr><td>Reuben Becker</td><td>Boryspil</td><td>Orci Lacus LLP</td><td>4</td><td>61111</td><td>Jul 19, 2023</td><td>Reception</td></tr><tr><td>Akeem Watson</td><td>Fremantle</td><td>Aliquet Diam LLP</td><td>4</td><td>67938</td><td>Nov 5, 2024</td><td>Manager</td></tr><tr><td>Branden Cline</td><td>Bolton</td><td>Aptent Taciti LLC</td><td>5</td><td>66029</td><td>Aug 9, 2024</td><td>HR</td></tr><tr><td>Breanna Juarez</td><td>San Clemente</td><td>Eget Venenatis Limited</td><td>5</td><td>83088</td><td>Jun 4, 2023</td><td>Manager</td></tr><tr><td>Leo Hill</td><td>Värnamo</td><td>Nisl PC</td><td>5</td><td>81363</td><td>May 26, 2023</td><td>Data Engineer</td></tr><tr><td>Iola Griffith</td><td>Kotli</td><td>Amet Diam Limited</td><td>6</td><td>93940</td><td>Aug 27, 2024</td><td>Analyst</td></tr><tr><td>Kyle Fitzpatrick</td><td>Osasco</td><td>Facilisis Lorem Inc.</td><td>6</td><td>91738</td><td>Oct 27, 2024</td><td>Manager</td></tr><tr><td>Cynthia Hicks</td><td>Bislig</td><td>Lectus Cum Industries</td><td>7</td><td>98273</td><td>Feb 24, 2024</td><td>Sales head</td></tr><tr><td>Geraldine Rutledge</td><td>Laakirchen</td><td>Dis Parturient Montes Institute</td><td>7</td><td>101302</td><td>May 16, 2024</td><td>Data Engineer</td></tr><tr><td>Hayfa Bush</td><td>Changi Bay</td><td>Erat In Associates</td><td>8</td><td>113812</td><td>Nov 21, 2023</td><td>Analyst</td></tr><tr><td>Teegan Wallace</td><td>Chía</td><td>Eleifend Industries</td><td>8</td><td>109431</td><td>Jul 29, 2024</td><td>Data Engineer</td></tr><tr><td>Adara Hardin</td><td>Ulyanovsk</td><td>Porttitor Scelerisque Limited</td><td>9</td><td>105582</td><td>Oct 16, 2023</td><td>Analyst</td></tr><tr><td>Kim Carson</td><td>Kraków</td><td>Tempor Corporation</td><td>9</td><td>116969</td><td>Dec 22, 2022</td><td>Manager</td></tr><tr><td>Eagan Kline</td><td>San Andrés</td><td>Ridiculus Mus Foundation</td><td>9</td><td>112635</td><td>Sep 10, 2023</td><td>HR</td></tr><tr><td>Karen Newman</td><td>Chonchi</td><td>Blandit Viverra PC</td><td>10</td><td>122391</td><td>May 17, 2024</td><td>Sales head</td></tr><tr><td>Dennis Potts</td><td>Hudiksvall</td><td>Pellentesque Tellus Consulting</td><td>10</td><td>121872</td><td>Nov 9, 2024</td><td>Sales</td></tr><tr><td>Amity Hodges</td><td>Banjar</td><td>Mauris Rhoncus Id Industries</td><td>null</td><td>null</td><td>Oct 2, 2023</td><td>Software Engineer</td></tr><tr><td>Nadine Cantu</td><td>Vitória da Conquista</td><td>Ac Corporation</td><td>null</td><td>null</td><td>Jan 20, 2023</td><td>Sales head</td></tr><tr><td>Jerry Lyons</td><td>Mandal</td><td>Enim Suspendisse Company</td><td>null</td><td>null</td><td>Apr 2, 2024</td><td>Finance</td></tr><tr><td>Howard Beck</td><td>Rockingham</td><td>Mauris Eu Turpis Corporation</td><td>null</td><td>null</td><td>Aug 13, 2023</td><td>Sales</td></tr><tr><td>Medge Wolf</td><td>Güstrow</td><td>Nec LLC</td><td>null</td><td>null</td><td>Jan 25, 2023</td><td>Software Engineer</td></tr><tr><td>Rylee Love</td><td>Loncoche</td><td>Elit Curabitur Inc.</td><td>null</td><td>null</td><td>Feb 21, 2024</td><td>Data Engineer</td></tr><tr><td>Walter Ortega</td><td>Kotli</td><td>Metus Aliquam LLC</td><td>null</td><td>null</td><td>Oct 21, 2024</td><td>Analyst</td></tr><tr><td>Alan Fischer</td><td>Łomża</td><td>Fringilla Donec Corp.</td><td>null</td><td>null</td><td>Dec 11, 2023</td><td>Reception</td></tr><tr><td>Colleen George</td><td>Trollhättan</td><td>Arcu Sed Associates</td><td>null</td><td>null</td><td>Mar 13, 2024</td><td>Manager</td></tr><tr><td>Blake Ingram</td><td>Chakwal</td><td>Felis Donec LLC</td><td>null</td><td>null</td><td>Nov 7, 2024</td><td>HR</td></tr><tr><td>Lael Brooks</td><td>Linz</td><td>Dignissim Lacus Aliquam LLP</td><td>null</td><td>null</td><td>Aug 1, 2023</td><td>Software Engineer</td></tr></tbody></table></div>"
      ]
     },
     "metadata": {
      "application/vnd.databricks.v1+output": {
       "addedWidgets": {},
       "aggData": [],
       "aggError": "",
       "aggOverflow": false,
       "aggSchema": [],
       "aggSeriesLimitReached": false,
       "aggType": "",
       "arguments": {},
       "columnCustomDisplayInfos": {},
       "data": [
        [
         "Luke Hanson",
         "Sydney",
         "Eu Elit Limited",
         1,
         46205,
         "Dec 13, 2023",
         "HR"
        ],
        [
         "Katelyn Crawford",
         "Manisa",
         "Eu Ultrices Industries",
         1,
         37731,
         "Jan 12, 2023",
         "Finance"
        ],
        [
         "Aladdin Rios",
         "Kohima",
         "Lacinia Orci Foundation",
         2,
         43525,
         "Jul 15, 2023",
         "Sales"
        ],
        [
         "Zachary Wiley",
         "Smolensk",
         "Lorem Luctus Ut Ltd",
         2,
         39891,
         "Jun 11, 2024",
         "Software Engineer"
        ],
        [
         "Alfonso Sharpe",
         "Montone",
         "Mi LLC",
         2,
         56642,
         "Mar 26, 2024",
         "Data Engineer"
        ],
        [
         "Mary Kerr",
         "Cañas",
         "Nulla Eget LLC",
         3,
         60150,
         "Jan 16, 2024",
         "Analyst"
        ],
        [
         "Lamar Paul",
         "Veere",
         "Aenean Egestas Hendrerit Limited",
         3,
         54445,
         "Feb 11, 2024",
         "Reception"
        ],
        [
         "Rhiannon Cleveland",
         "Gasteiz",
         "Tincidunt Dui Associates",
         3,
         64445,
         "Oct 4, 2023",
         "HR"
        ],
        [
         "Gloria Richmond",
         "Rotorua",
         "Sit Amet Institute",
         3,
         57189,
         "Sep 14, 2023",
         "Finance"
        ],
        [
         "Germane Whitley",
         "Anhui",
         "Vulputate Foundation",
         3,
         63218,
         "Nov 13, 2024",
         "Sales"
        ],
        [
         "Teegan Larson",
         "Hastings",
         "Ut Tincidunt Associates",
         4,
         55794,
         "May 30, 2023",
         "Software Engineer"
        ],
        [
         "Jesse Cannon",
         "Blois",
         "Fringilla Cursus Ltd",
         4,
         56957,
         "Jul 17, 2024",
         "Data Engineer"
        ],
        [
         "Lareina Wade",
         "Gijón",
         "Erat Volutpat Nulla Ltd",
         4,
         57081,
         "Jun 16, 2024",
         "Analyst"
        ],
        [
         "Reuben Becker",
         "Boryspil",
         "Orci Lacus LLP",
         4,
         61111,
         "Jul 19, 2023",
         "Reception"
        ],
        [
         "Akeem Watson",
         "Fremantle",
         "Aliquet Diam LLP",
         4,
         67938,
         "Nov 5, 2024",
         "Manager"
        ],
        [
         "Branden Cline",
         "Bolton",
         "Aptent Taciti LLC",
         5,
         66029,
         "Aug 9, 2024",
         "HR"
        ],
        [
         "Breanna Juarez",
         "San Clemente",
         "Eget Venenatis Limited",
         5,
         83088,
         "Jun 4, 2023",
         "Manager"
        ],
        [
         "Leo Hill",
         "Värnamo",
         "Nisl PC",
         5,
         81363,
         "May 26, 2023",
         "Data Engineer"
        ],
        [
         "Iola Griffith",
         "Kotli",
         "Amet Diam Limited",
         6,
         93940,
         "Aug 27, 2024",
         "Analyst"
        ],
        [
         "Kyle Fitzpatrick",
         "Osasco",
         "Facilisis Lorem Inc.",
         6,
         91738,
         "Oct 27, 2024",
         "Manager"
        ],
        [
         "Cynthia Hicks",
         "Bislig",
         "Lectus Cum Industries",
         7,
         98273,
         "Feb 24, 2024",
         "Sales head"
        ],
        [
         "Geraldine Rutledge",
         "Laakirchen",
         "Dis Parturient Montes Institute",
         7,
         101302,
         "May 16, 2024",
         "Data Engineer"
        ],
        [
         "Hayfa Bush",
         "Changi Bay",
         "Erat In Associates",
         8,
         113812,
         "Nov 21, 2023",
         "Analyst"
        ],
        [
         "Teegan Wallace",
         "Chía",
         "Eleifend Industries",
         8,
         109431,
         "Jul 29, 2024",
         "Data Engineer"
        ],
        [
         "Adara Hardin",
         "Ulyanovsk",
         "Porttitor Scelerisque Limited",
         9,
         105582,
         "Oct 16, 2023",
         "Analyst"
        ],
        [
         "Kim Carson",
         "Kraków",
         "Tempor Corporation",
         9,
         116969,
         "Dec 22, 2022",
         "Manager"
        ],
        [
         "Eagan Kline",
         "San Andrés",
         "Ridiculus Mus Foundation",
         9,
         112635,
         "Sep 10, 2023",
         "HR"
        ],
        [
         "Karen Newman",
         "Chonchi",
         "Blandit Viverra PC",
         10,
         122391,
         "May 17, 2024",
         "Sales head"
        ],
        [
         "Dennis Potts",
         "Hudiksvall",
         "Pellentesque Tellus Consulting",
         10,
         121872,
         "Nov 9, 2024",
         "Sales"
        ],
        [
         "Amity Hodges",
         "Banjar",
         "Mauris Rhoncus Id Industries",
         null,
         null,
         "Oct 2, 2023",
         "Software Engineer"
        ],
        [
         "Nadine Cantu",
         "Vitória da Conquista",
         "Ac Corporation",
         null,
         null,
         "Jan 20, 2023",
         "Sales head"
        ],
        [
         "Jerry Lyons",
         "Mandal",
         "Enim Suspendisse Company",
         null,
         null,
         "Apr 2, 2024",
         "Finance"
        ],
        [
         "Howard Beck",
         "Rockingham",
         "Mauris Eu Turpis Corporation",
         null,
         null,
         "Aug 13, 2023",
         "Sales"
        ],
        [
         "Medge Wolf",
         "Güstrow",
         "Nec LLC",
         null,
         null,
         "Jan 25, 2023",
         "Software Engineer"
        ],
        [
         "Rylee Love",
         "Loncoche",
         "Elit Curabitur Inc.",
         null,
         null,
         "Feb 21, 2024",
         "Data Engineer"
        ],
        [
         "Walter Ortega",
         "Kotli",
         "Metus Aliquam LLC",
         null,
         null,
         "Oct 21, 2024",
         "Analyst"
        ],
        [
         "Alan Fischer",
         "Łomża",
         "Fringilla Donec Corp.",
         null,
         null,
         "Dec 11, 2023",
         "Reception"
        ],
        [
         "Colleen George",
         "Trollhättan",
         "Arcu Sed Associates",
         null,
         null,
         "Mar 13, 2024",
         "Manager"
        ],
        [
         "Blake Ingram",
         "Chakwal",
         "Felis Donec LLC",
         null,
         null,
         "Nov 7, 2024",
         "HR"
        ],
        [
         "Lael Brooks",
         "Linz",
         "Dignissim Lacus Aliquam LLP",
         null,
         null,
         "Aug 1, 2023",
         "Software Engineer"
        ]
       ],
       "datasetInfos": [],
       "dbfsResultPath": null,
       "isJsonSchema": true,
       "metadata": {},
       "overflow": false,
       "plotOptions": {
        "customPlotOptions": {},
        "displayType": "table",
        "pivotAggregation": null,
        "pivotColumns": null,
        "xColumns": null,
        "yColumns": null
       },
       "removedWidgets": [],
       "schema": [
        {
         "metadata": "{}",
         "name": "Name",
         "type": "\"string\""
        },
        {
         "metadata": "{}",
         "name": "Country",
         "type": "\"string\""
        },
        {
         "metadata": "{}",
         "name": "Company",
         "type": "\"string\""
        },
        {
         "metadata": "{}",
         "name": "Experience",
         "type": "\"integer\""
        },
        {
         "metadata": "{}",
         "name": "Salary",
         "type": "\"integer\""
        },
        {
         "metadata": "{}",
         "name": "date of joining",
         "type": "\"string\""
        },
        {
         "metadata": "{}",
         "name": "Department",
         "type": "\"string\""
        }
       ],
       "type": "table"
      }
     },
     "output_type": "display_data"
    }
   ],
   "source": [
    "spark_df.display()"
   ]
  },
  {
   "cell_type": "code",
   "execution_count": 0,
   "metadata": {
    "application/vnd.databricks.v1+cell": {
     "cellMetadata": {
      "byteLimit": 2048000,
      "rowLimit": 10000
     },
     "inputWidgets": {},
     "nuid": "d32364b6-db25-4895-9523-40a8177a1dae",
     "showTitle": false,
     "title": ""
    }
   },
   "outputs": [
    {
     "output_type": "display_data",
     "data": {
      "text/html": [
       "<style scoped>\n",
       "  .table-result-container {\n",
       "    max-height: 300px;\n",
       "    overflow: auto;\n",
       "  }\n",
       "  table, th, td {\n",
       "    border: 1px solid black;\n",
       "    border-collapse: collapse;\n",
       "  }\n",
       "  th, td {\n",
       "    padding: 5px;\n",
       "  }\n",
       "  th {\n",
       "    text-align: left;\n",
       "  }\n",
       "</style><div class='table-result-container'><table class='table-result'><thead style='background-color: white'><tr><th>Name</th><th>Country</th><th>Company</th><th>Experience</th><th>Salary</th><th>date of joining</th><th>Department</th></tr></thead><tbody><tr><td>Alfonso Sharpe</td><td>Montone</td><td>Mi LLC</td><td>2</td><td>56642</td><td>Mar 26, 2024</td><td>Data Engineer</td></tr><tr><td>Mary Kerr</td><td>Cañas</td><td>Nulla Eget LLC</td><td>3</td><td>60150</td><td>Jan 16, 2024</td><td>Analyst</td></tr><tr><td>Lamar Paul</td><td>Veere</td><td>Aenean Egestas Hendrerit Limited</td><td>3</td><td>54445</td><td>Feb 11, 2024</td><td>Reception</td></tr><tr><td>Rhiannon Cleveland</td><td>Gasteiz</td><td>Tincidunt Dui Associates</td><td>3</td><td>64445</td><td>Oct 4, 2023</td><td>HR</td></tr><tr><td>Gloria Richmond</td><td>Rotorua</td><td>Sit Amet Institute</td><td>3</td><td>57189</td><td>Sep 14, 2023</td><td>Finance</td></tr><tr><td>Germane Whitley</td><td>Anhui</td><td>Vulputate Foundation</td><td>3</td><td>63218</td><td>Nov 13, 2024</td><td>Sales</td></tr><tr><td>Teegan Larson</td><td>Hastings</td><td>Ut Tincidunt Associates</td><td>4</td><td>55794</td><td>May 30, 2023</td><td>Software Engineer</td></tr><tr><td>Jesse Cannon</td><td>Blois</td><td>Fringilla Cursus Ltd</td><td>4</td><td>56957</td><td>Jul 17, 2024</td><td>Data Engineer</td></tr><tr><td>Lareina Wade</td><td>Gijón</td><td>Erat Volutpat Nulla Ltd</td><td>4</td><td>57081</td><td>Jun 16, 2024</td><td>Analyst</td></tr><tr><td>Reuben Becker</td><td>Boryspil</td><td>Orci Lacus LLP</td><td>4</td><td>61111</td><td>Jul 19, 2023</td><td>Reception</td></tr><tr><td>Akeem Watson</td><td>Fremantle</td><td>Aliquet Diam LLP</td><td>4</td><td>67938</td><td>Nov 5, 2024</td><td>Manager</td></tr><tr><td>Branden Cline</td><td>Bolton</td><td>Aptent Taciti LLC</td><td>5</td><td>66029</td><td>Aug 9, 2024</td><td>HR</td></tr><tr><td>Breanna Juarez</td><td>San Clemente</td><td>Eget Venenatis Limited</td><td>5</td><td>83088</td><td>Jun 4, 2023</td><td>Manager</td></tr><tr><td>Leo Hill</td><td>Värnamo</td><td>Nisl PC</td><td>5</td><td>81363</td><td>May 26, 2023</td><td>Data Engineer</td></tr><tr><td>Iola Griffith</td><td>Kotli</td><td>Amet Diam Limited</td><td>6</td><td>93940</td><td>Aug 27, 2024</td><td>Analyst</td></tr><tr><td>Kyle Fitzpatrick</td><td>Osasco</td><td>Facilisis Lorem Inc.</td><td>6</td><td>91738</td><td>Oct 27, 2024</td><td>Manager</td></tr><tr><td>Cynthia Hicks</td><td>Bislig</td><td>Lectus Cum Industries</td><td>7</td><td>98273</td><td>Feb 24, 2024</td><td>Sales head</td></tr><tr><td>Geraldine Rutledge</td><td>Laakirchen</td><td>Dis Parturient Montes Institute</td><td>7</td><td>101302</td><td>May 16, 2024</td><td>Data Engineer</td></tr><tr><td>Hayfa Bush</td><td>Changi Bay</td><td>Erat In Associates</td><td>8</td><td>113812</td><td>Nov 21, 2023</td><td>Analyst</td></tr><tr><td>Teegan Wallace</td><td>Chía</td><td>Eleifend Industries</td><td>8</td><td>109431</td><td>Jul 29, 2024</td><td>Data Engineer</td></tr><tr><td>Adara Hardin</td><td>Ulyanovsk</td><td>Porttitor Scelerisque Limited</td><td>9</td><td>105582</td><td>Oct 16, 2023</td><td>Analyst</td></tr><tr><td>Kim Carson</td><td>Kraków</td><td>Tempor Corporation</td><td>9</td><td>116969</td><td>Dec 22, 2022</td><td>Manager</td></tr><tr><td>Eagan Kline</td><td>San Andrés</td><td>Ridiculus Mus Foundation</td><td>9</td><td>112635</td><td>Sep 10, 2023</td><td>HR</td></tr><tr><td>Karen Newman</td><td>Chonchi</td><td>Blandit Viverra PC</td><td>10</td><td>122391</td><td>May 17, 2024</td><td>Sales head</td></tr><tr><td>Dennis Potts</td><td>Hudiksvall</td><td>Pellentesque Tellus Consulting</td><td>10</td><td>121872</td><td>Nov 9, 2024</td><td>Sales</td></tr></tbody></table></div>"
      ]
     },
     "metadata": {
      "application/vnd.databricks.v1+output": {
       "addedWidgets": {},
       "aggData": [],
       "aggError": "",
       "aggOverflow": false,
       "aggSchema": [],
       "aggSeriesLimitReached": false,
       "aggType": "",
       "arguments": {},
       "columnCustomDisplayInfos": {},
       "data": [
        [
         "Alfonso Sharpe",
         "Montone",
         "Mi LLC",
         2,
         56642,
         "Mar 26, 2024",
         "Data Engineer"
        ],
        [
         "Mary Kerr",
         "Cañas",
         "Nulla Eget LLC",
         3,
         60150,
         "Jan 16, 2024",
         "Analyst"
        ],
        [
         "Lamar Paul",
         "Veere",
         "Aenean Egestas Hendrerit Limited",
         3,
         54445,
         "Feb 11, 2024",
         "Reception"
        ],
        [
         "Rhiannon Cleveland",
         "Gasteiz",
         "Tincidunt Dui Associates",
         3,
         64445,
         "Oct 4, 2023",
         "HR"
        ],
        [
         "Gloria Richmond",
         "Rotorua",
         "Sit Amet Institute",
         3,
         57189,
         "Sep 14, 2023",
         "Finance"
        ],
        [
         "Germane Whitley",
         "Anhui",
         "Vulputate Foundation",
         3,
         63218,
         "Nov 13, 2024",
         "Sales"
        ],
        [
         "Teegan Larson",
         "Hastings",
         "Ut Tincidunt Associates",
         4,
         55794,
         "May 30, 2023",
         "Software Engineer"
        ],
        [
         "Jesse Cannon",
         "Blois",
         "Fringilla Cursus Ltd",
         4,
         56957,
         "Jul 17, 2024",
         "Data Engineer"
        ],
        [
         "Lareina Wade",
         "Gijón",
         "Erat Volutpat Nulla Ltd",
         4,
         57081,
         "Jun 16, 2024",
         "Analyst"
        ],
        [
         "Reuben Becker",
         "Boryspil",
         "Orci Lacus LLP",
         4,
         61111,
         "Jul 19, 2023",
         "Reception"
        ],
        [
         "Akeem Watson",
         "Fremantle",
         "Aliquet Diam LLP",
         4,
         67938,
         "Nov 5, 2024",
         "Manager"
        ],
        [
         "Branden Cline",
         "Bolton",
         "Aptent Taciti LLC",
         5,
         66029,
         "Aug 9, 2024",
         "HR"
        ],
        [
         "Breanna Juarez",
         "San Clemente",
         "Eget Venenatis Limited",
         5,
         83088,
         "Jun 4, 2023",
         "Manager"
        ],
        [
         "Leo Hill",
         "Värnamo",
         "Nisl PC",
         5,
         81363,
         "May 26, 2023",
         "Data Engineer"
        ],
        [
         "Iola Griffith",
         "Kotli",
         "Amet Diam Limited",
         6,
         93940,
         "Aug 27, 2024",
         "Analyst"
        ],
        [
         "Kyle Fitzpatrick",
         "Osasco",
         "Facilisis Lorem Inc.",
         6,
         91738,
         "Oct 27, 2024",
         "Manager"
        ],
        [
         "Cynthia Hicks",
         "Bislig",
         "Lectus Cum Industries",
         7,
         98273,
         "Feb 24, 2024",
         "Sales head"
        ],
        [
         "Geraldine Rutledge",
         "Laakirchen",
         "Dis Parturient Montes Institute",
         7,
         101302,
         "May 16, 2024",
         "Data Engineer"
        ],
        [
         "Hayfa Bush",
         "Changi Bay",
         "Erat In Associates",
         8,
         113812,
         "Nov 21, 2023",
         "Analyst"
        ],
        [
         "Teegan Wallace",
         "Chía",
         "Eleifend Industries",
         8,
         109431,
         "Jul 29, 2024",
         "Data Engineer"
        ],
        [
         "Adara Hardin",
         "Ulyanovsk",
         "Porttitor Scelerisque Limited",
         9,
         105582,
         "Oct 16, 2023",
         "Analyst"
        ],
        [
         "Kim Carson",
         "Kraków",
         "Tempor Corporation",
         9,
         116969,
         "Dec 22, 2022",
         "Manager"
        ],
        [
         "Eagan Kline",
         "San Andrés",
         "Ridiculus Mus Foundation",
         9,
         112635,
         "Sep 10, 2023",
         "HR"
        ],
        [
         "Karen Newman",
         "Chonchi",
         "Blandit Viverra PC",
         10,
         122391,
         "May 17, 2024",
         "Sales head"
        ],
        [
         "Dennis Potts",
         "Hudiksvall",
         "Pellentesque Tellus Consulting",
         10,
         121872,
         "Nov 9, 2024",
         "Sales"
        ]
       ],
       "datasetInfos": [],
       "dbfsResultPath": null,
       "isJsonSchema": true,
       "metadata": {},
       "overflow": false,
       "plotOptions": {
        "customPlotOptions": {},
        "displayType": "table",
        "pivotAggregation": null,
        "pivotColumns": null,
        "xColumns": null,
        "yColumns": null
       },
       "removedWidgets": [],
       "schema": [
        {
         "metadata": "{}",
         "name": "Name",
         "type": "\"string\""
        },
        {
         "metadata": "{}",
         "name": "Country",
         "type": "\"string\""
        },
        {
         "metadata": "{}",
         "name": "Company",
         "type": "\"string\""
        },
        {
         "metadata": "{}",
         "name": "Experience",
         "type": "\"integer\""
        },
        {
         "metadata": "{}",
         "name": "Salary",
         "type": "\"integer\""
        },
        {
         "metadata": "{}",
         "name": "date of joining",
         "type": "\"string\""
        },
        {
         "metadata": "{}",
         "name": "Department",
         "type": "\"string\""
        }
       ],
       "type": "table"
      }
     },
     "output_type": "display_data"
    }
   ],
   "source": [
    "#Using filter command for one column Salary above 50K\n",
    "spark_df.filter((spark_df.Salary)>50000).display()"
   ]
  },
  {
   "cell_type": "code",
   "execution_count": 0,
   "metadata": {
    "application/vnd.databricks.v1+cell": {
     "cellMetadata": {
      "byteLimit": 2048000,
      "rowLimit": 10000
     },
     "inputWidgets": {},
     "nuid": "e16e8486-56f9-44f1-802f-53f01a021b7f",
     "showTitle": false,
     "title": ""
    }
   },
   "outputs": [
    {
     "output_type": "display_data",
     "data": {
      "text/html": [
       "<style scoped>\n",
       "  .table-result-container {\n",
       "    max-height: 300px;\n",
       "    overflow: auto;\n",
       "  }\n",
       "  table, th, td {\n",
       "    border: 1px solid black;\n",
       "    border-collapse: collapse;\n",
       "  }\n",
       "  th, td {\n",
       "    padding: 5px;\n",
       "  }\n",
       "  th {\n",
       "    text-align: left;\n",
       "  }\n",
       "</style><div class='table-result-container'><table class='table-result'><thead style='background-color: white'><tr><th>Name</th><th>Country</th><th>Company</th><th>Experience</th><th>Salary</th><th>date of joining</th><th>Department</th></tr></thead><tbody><tr><td>Zachary Wiley</td><td>Smolensk</td><td>Lorem Luctus Ut Ltd</td><td>2</td><td>39891</td><td>Jun 11, 2024</td><td>Software Engineer</td></tr><tr><td>Teegan Larson</td><td>Hastings</td><td>Ut Tincidunt Associates</td><td>4</td><td>55794</td><td>May 30, 2023</td><td>Software Engineer</td></tr></tbody></table></div>"
      ]
     },
     "metadata": {
      "application/vnd.databricks.v1+output": {
       "addedWidgets": {},
       "aggData": [],
       "aggError": "",
       "aggOverflow": false,
       "aggSchema": [],
       "aggSeriesLimitReached": false,
       "aggType": "",
       "arguments": {},
       "columnCustomDisplayInfos": {},
       "data": [
        [
         "Zachary Wiley",
         "Smolensk",
         "Lorem Luctus Ut Ltd",
         2,
         39891,
         "Jun 11, 2024",
         "Software Engineer"
        ],
        [
         "Teegan Larson",
         "Hastings",
         "Ut Tincidunt Associates",
         4,
         55794,
         "May 30, 2023",
         "Software Engineer"
        ]
       ],
       "datasetInfos": [],
       "dbfsResultPath": null,
       "isJsonSchema": true,
       "metadata": {},
       "overflow": false,
       "plotOptions": {
        "customPlotOptions": {},
        "displayType": "table",
        "pivotAggregation": null,
        "pivotColumns": null,
        "xColumns": null,
        "yColumns": null
       },
       "removedWidgets": [],
       "schema": [
        {
         "metadata": "{}",
         "name": "Name",
         "type": "\"string\""
        },
        {
         "metadata": "{}",
         "name": "Country",
         "type": "\"string\""
        },
        {
         "metadata": "{}",
         "name": "Company",
         "type": "\"string\""
        },
        {
         "metadata": "{}",
         "name": "Experience",
         "type": "\"integer\""
        },
        {
         "metadata": "{}",
         "name": "Salary",
         "type": "\"integer\""
        },
        {
         "metadata": "{}",
         "name": "date of joining",
         "type": "\"string\""
        },
        {
         "metadata": "{}",
         "name": "Department",
         "type": "\"string\""
        }
       ],
       "type": "table"
      }
     },
     "output_type": "display_data"
    }
   ],
   "source": [
    "#Using filter command for multiple columns\n",
    "spark_df.where((spark_df.Salary > 10000 ) & (spark_df.Department == \"Software Engineer\")).display()"
   ]
  },
  {
   "cell_type": "code",
   "execution_count": 0,
   "metadata": {
    "application/vnd.databricks.v1+cell": {
     "cellMetadata": {
      "byteLimit": 2048000,
      "rowLimit": 10000
     },
     "inputWidgets": {},
     "nuid": "df97b71c-2211-4162-983a-df79310bf17d",
     "showTitle": false,
     "title": ""
    }
   },
   "outputs": [],
   "source": [
    "# To use lit we will import the function\n",
    "from pyspark.sql import *"
   ]
  },
  {
   "cell_type": "code",
   "execution_count": 0,
   "metadata": {
    "application/vnd.databricks.v1+cell": {
     "cellMetadata": {
      "byteLimit": 2048000,
      "rowLimit": 10000
     },
     "inputWidgets": {},
     "nuid": "827c705d-2a13-4cc2-a169-9f45097dbe98",
     "showTitle": false,
     "title": ""
    }
   },
   "outputs": [
    {
     "output_type": "display_data",
     "data": {
      "text/html": [
       "<style scoped>\n",
       "  .table-result-container {\n",
       "    max-height: 300px;\n",
       "    overflow: auto;\n",
       "  }\n",
       "  table, th, td {\n",
       "    border: 1px solid black;\n",
       "    border-collapse: collapse;\n",
       "  }\n",
       "  th, td {\n",
       "    padding: 5px;\n",
       "  }\n",
       "  th {\n",
       "    text-align: left;\n",
       "  }\n",
       "</style><div class='table-result-container'><table class='table-result'><thead style='background-color: white'><tr><th>Name</th><th>Country</th><th>Company</th><th>Experience</th><th>Salary</th><th>date of joining</th><th>Department</th></tr></thead><tbody><tr><td>Luke Hanson</td><td>Sydney</td><td>Eu Elit Limited</td><td>3</td><td>46205</td><td>Dec 13, 2023</td><td>HR</td></tr><tr><td>Katelyn Crawford</td><td>Manisa</td><td>Eu Ultrices Industries</td><td>3</td><td>37731</td><td>Jan 12, 2023</td><td>Finance</td></tr><tr><td>Aladdin Rios</td><td>Kohima</td><td>Lacinia Orci Foundation</td><td>4</td><td>43525</td><td>Jul 15, 2023</td><td>Sales</td></tr><tr><td>Zachary Wiley</td><td>Smolensk</td><td>Lorem Luctus Ut Ltd</td><td>4</td><td>39891</td><td>Jun 11, 2024</td><td>Software Engineer</td></tr><tr><td>Alfonso Sharpe</td><td>Montone</td><td>Mi LLC</td><td>4</td><td>56642</td><td>Mar 26, 2024</td><td>Data Engineer</td></tr><tr><td>Mary Kerr</td><td>Cañas</td><td>Nulla Eget LLC</td><td>5</td><td>60150</td><td>Jan 16, 2024</td><td>Analyst</td></tr><tr><td>Lamar Paul</td><td>Veere</td><td>Aenean Egestas Hendrerit Limited</td><td>5</td><td>54445</td><td>Feb 11, 2024</td><td>Reception</td></tr><tr><td>Rhiannon Cleveland</td><td>Gasteiz</td><td>Tincidunt Dui Associates</td><td>5</td><td>64445</td><td>Oct 4, 2023</td><td>HR</td></tr><tr><td>Gloria Richmond</td><td>Rotorua</td><td>Sit Amet Institute</td><td>5</td><td>57189</td><td>Sep 14, 2023</td><td>Finance</td></tr><tr><td>Germane Whitley</td><td>Anhui</td><td>Vulputate Foundation</td><td>5</td><td>63218</td><td>Nov 13, 2024</td><td>Sales</td></tr><tr><td>Teegan Larson</td><td>Hastings</td><td>Ut Tincidunt Associates</td><td>6</td><td>55794</td><td>May 30, 2023</td><td>Software Engineer</td></tr><tr><td>Jesse Cannon</td><td>Blois</td><td>Fringilla Cursus Ltd</td><td>6</td><td>56957</td><td>Jul 17, 2024</td><td>Data Engineer</td></tr><tr><td>Lareina Wade</td><td>Gijón</td><td>Erat Volutpat Nulla Ltd</td><td>6</td><td>57081</td><td>Jun 16, 2024</td><td>Analyst</td></tr><tr><td>Reuben Becker</td><td>Boryspil</td><td>Orci Lacus LLP</td><td>6</td><td>61111</td><td>Jul 19, 2023</td><td>Reception</td></tr><tr><td>Akeem Watson</td><td>Fremantle</td><td>Aliquet Diam LLP</td><td>6</td><td>67938</td><td>Nov 5, 2024</td><td>Manager</td></tr><tr><td>Branden Cline</td><td>Bolton</td><td>Aptent Taciti LLC</td><td>7</td><td>66029</td><td>Aug 9, 2024</td><td>HR</td></tr><tr><td>Breanna Juarez</td><td>San Clemente</td><td>Eget Venenatis Limited</td><td>7</td><td>83088</td><td>Jun 4, 2023</td><td>Manager</td></tr><tr><td>Leo Hill</td><td>Värnamo</td><td>Nisl PC</td><td>7</td><td>81363</td><td>May 26, 2023</td><td>Data Engineer</td></tr><tr><td>Iola Griffith</td><td>Kotli</td><td>Amet Diam Limited</td><td>8</td><td>93940</td><td>Aug 27, 2024</td><td>Analyst</td></tr><tr><td>Kyle Fitzpatrick</td><td>Osasco</td><td>Facilisis Lorem Inc.</td><td>8</td><td>91738</td><td>Oct 27, 2024</td><td>Manager</td></tr><tr><td>Cynthia Hicks</td><td>Bislig</td><td>Lectus Cum Industries</td><td>9</td><td>98273</td><td>Feb 24, 2024</td><td>Sales head</td></tr><tr><td>Geraldine Rutledge</td><td>Laakirchen</td><td>Dis Parturient Montes Institute</td><td>9</td><td>101302</td><td>May 16, 2024</td><td>Data Engineer</td></tr><tr><td>Hayfa Bush</td><td>Changi Bay</td><td>Erat In Associates</td><td>10</td><td>113812</td><td>Nov 21, 2023</td><td>Analyst</td></tr><tr><td>Teegan Wallace</td><td>Chía</td><td>Eleifend Industries</td><td>10</td><td>109431</td><td>Jul 29, 2024</td><td>Data Engineer</td></tr><tr><td>Adara Hardin</td><td>Ulyanovsk</td><td>Porttitor Scelerisque Limited</td><td>11</td><td>105582</td><td>Oct 16, 2023</td><td>Analyst</td></tr><tr><td>Kim Carson</td><td>Kraków</td><td>Tempor Corporation</td><td>11</td><td>116969</td><td>Dec 22, 2022</td><td>Manager</td></tr><tr><td>Eagan Kline</td><td>San Andrés</td><td>Ridiculus Mus Foundation</td><td>11</td><td>112635</td><td>Sep 10, 2023</td><td>HR</td></tr><tr><td>Karen Newman</td><td>Chonchi</td><td>Blandit Viverra PC</td><td>12</td><td>122391</td><td>May 17, 2024</td><td>Sales head</td></tr><tr><td>Dennis Potts</td><td>Hudiksvall</td><td>Pellentesque Tellus Consulting</td><td>12</td><td>121872</td><td>Nov 9, 2024</td><td>Sales</td></tr><tr><td>Amity Hodges</td><td>Banjar</td><td>Mauris Rhoncus Id Industries</td><td>null</td><td>null</td><td>Oct 2, 2023</td><td>Software Engineer</td></tr><tr><td>Nadine Cantu</td><td>Vitória da Conquista</td><td>Ac Corporation</td><td>null</td><td>null</td><td>Jan 20, 2023</td><td>Sales head</td></tr><tr><td>Jerry Lyons</td><td>Mandal</td><td>Enim Suspendisse Company</td><td>null</td><td>null</td><td>Apr 2, 2024</td><td>Finance</td></tr><tr><td>Howard Beck</td><td>Rockingham</td><td>Mauris Eu Turpis Corporation</td><td>null</td><td>null</td><td>Aug 13, 2023</td><td>Sales</td></tr><tr><td>Medge Wolf</td><td>Güstrow</td><td>Nec LLC</td><td>null</td><td>null</td><td>Jan 25, 2023</td><td>Software Engineer</td></tr><tr><td>Rylee Love</td><td>Loncoche</td><td>Elit Curabitur Inc.</td><td>null</td><td>null</td><td>Feb 21, 2024</td><td>Data Engineer</td></tr><tr><td>Walter Ortega</td><td>Kotli</td><td>Metus Aliquam LLC</td><td>null</td><td>null</td><td>Oct 21, 2024</td><td>Analyst</td></tr><tr><td>Alan Fischer</td><td>Łomża</td><td>Fringilla Donec Corp.</td><td>null</td><td>null</td><td>Dec 11, 2023</td><td>Reception</td></tr><tr><td>Colleen George</td><td>Trollhättan</td><td>Arcu Sed Associates</td><td>null</td><td>null</td><td>Mar 13, 2024</td><td>Manager</td></tr><tr><td>Blake Ingram</td><td>Chakwal</td><td>Felis Donec LLC</td><td>null</td><td>null</td><td>Nov 7, 2024</td><td>HR</td></tr><tr><td>Lael Brooks</td><td>Linz</td><td>Dignissim Lacus Aliquam LLP</td><td>null</td><td>null</td><td>Aug 1, 2023</td><td>Software Engineer</td></tr></tbody></table></div>"
      ]
     },
     "metadata": {
      "application/vnd.databricks.v1+output": {
       "addedWidgets": {},
       "aggData": [],
       "aggError": "",
       "aggOverflow": false,
       "aggSchema": [],
       "aggSeriesLimitReached": false,
       "aggType": "",
       "arguments": {},
       "columnCustomDisplayInfos": {},
       "data": [
        [
         "Luke Hanson",
         "Sydney",
         "Eu Elit Limited",
         3,
         46205,
         "Dec 13, 2023",
         "HR"
        ],
        [
         "Katelyn Crawford",
         "Manisa",
         "Eu Ultrices Industries",
         3,
         37731,
         "Jan 12, 2023",
         "Finance"
        ],
        [
         "Aladdin Rios",
         "Kohima",
         "Lacinia Orci Foundation",
         4,
         43525,
         "Jul 15, 2023",
         "Sales"
        ],
        [
         "Zachary Wiley",
         "Smolensk",
         "Lorem Luctus Ut Ltd",
         4,
         39891,
         "Jun 11, 2024",
         "Software Engineer"
        ],
        [
         "Alfonso Sharpe",
         "Montone",
         "Mi LLC",
         4,
         56642,
         "Mar 26, 2024",
         "Data Engineer"
        ],
        [
         "Mary Kerr",
         "Cañas",
         "Nulla Eget LLC",
         5,
         60150,
         "Jan 16, 2024",
         "Analyst"
        ],
        [
         "Lamar Paul",
         "Veere",
         "Aenean Egestas Hendrerit Limited",
         5,
         54445,
         "Feb 11, 2024",
         "Reception"
        ],
        [
         "Rhiannon Cleveland",
         "Gasteiz",
         "Tincidunt Dui Associates",
         5,
         64445,
         "Oct 4, 2023",
         "HR"
        ],
        [
         "Gloria Richmond",
         "Rotorua",
         "Sit Amet Institute",
         5,
         57189,
         "Sep 14, 2023",
         "Finance"
        ],
        [
         "Germane Whitley",
         "Anhui",
         "Vulputate Foundation",
         5,
         63218,
         "Nov 13, 2024",
         "Sales"
        ],
        [
         "Teegan Larson",
         "Hastings",
         "Ut Tincidunt Associates",
         6,
         55794,
         "May 30, 2023",
         "Software Engineer"
        ],
        [
         "Jesse Cannon",
         "Blois",
         "Fringilla Cursus Ltd",
         6,
         56957,
         "Jul 17, 2024",
         "Data Engineer"
        ],
        [
         "Lareina Wade",
         "Gijón",
         "Erat Volutpat Nulla Ltd",
         6,
         57081,
         "Jun 16, 2024",
         "Analyst"
        ],
        [
         "Reuben Becker",
         "Boryspil",
         "Orci Lacus LLP",
         6,
         61111,
         "Jul 19, 2023",
         "Reception"
        ],
        [
         "Akeem Watson",
         "Fremantle",
         "Aliquet Diam LLP",
         6,
         67938,
         "Nov 5, 2024",
         "Manager"
        ],
        [
         "Branden Cline",
         "Bolton",
         "Aptent Taciti LLC",
         7,
         66029,
         "Aug 9, 2024",
         "HR"
        ],
        [
         "Breanna Juarez",
         "San Clemente",
         "Eget Venenatis Limited",
         7,
         83088,
         "Jun 4, 2023",
         "Manager"
        ],
        [
         "Leo Hill",
         "Värnamo",
         "Nisl PC",
         7,
         81363,
         "May 26, 2023",
         "Data Engineer"
        ],
        [
         "Iola Griffith",
         "Kotli",
         "Amet Diam Limited",
         8,
         93940,
         "Aug 27, 2024",
         "Analyst"
        ],
        [
         "Kyle Fitzpatrick",
         "Osasco",
         "Facilisis Lorem Inc.",
         8,
         91738,
         "Oct 27, 2024",
         "Manager"
        ],
        [
         "Cynthia Hicks",
         "Bislig",
         "Lectus Cum Industries",
         9,
         98273,
         "Feb 24, 2024",
         "Sales head"
        ],
        [
         "Geraldine Rutledge",
         "Laakirchen",
         "Dis Parturient Montes Institute",
         9,
         101302,
         "May 16, 2024",
         "Data Engineer"
        ],
        [
         "Hayfa Bush",
         "Changi Bay",
         "Erat In Associates",
         10,
         113812,
         "Nov 21, 2023",
         "Analyst"
        ],
        [
         "Teegan Wallace",
         "Chía",
         "Eleifend Industries",
         10,
         109431,
         "Jul 29, 2024",
         "Data Engineer"
        ],
        [
         "Adara Hardin",
         "Ulyanovsk",
         "Porttitor Scelerisque Limited",
         11,
         105582,
         "Oct 16, 2023",
         "Analyst"
        ],
        [
         "Kim Carson",
         "Kraków",
         "Tempor Corporation",
         11,
         116969,
         "Dec 22, 2022",
         "Manager"
        ],
        [
         "Eagan Kline",
         "San Andrés",
         "Ridiculus Mus Foundation",
         11,
         112635,
         "Sep 10, 2023",
         "HR"
        ],
        [
         "Karen Newman",
         "Chonchi",
         "Blandit Viverra PC",
         12,
         122391,
         "May 17, 2024",
         "Sales head"
        ],
        [
         "Dennis Potts",
         "Hudiksvall",
         "Pellentesque Tellus Consulting",
         12,
         121872,
         "Nov 9, 2024",
         "Sales"
        ],
        [
         "Amity Hodges",
         "Banjar",
         "Mauris Rhoncus Id Industries",
         null,
         null,
         "Oct 2, 2023",
         "Software Engineer"
        ],
        [
         "Nadine Cantu",
         "Vitória da Conquista",
         "Ac Corporation",
         null,
         null,
         "Jan 20, 2023",
         "Sales head"
        ],
        [
         "Jerry Lyons",
         "Mandal",
         "Enim Suspendisse Company",
         null,
         null,
         "Apr 2, 2024",
         "Finance"
        ],
        [
         "Howard Beck",
         "Rockingham",
         "Mauris Eu Turpis Corporation",
         null,
         null,
         "Aug 13, 2023",
         "Sales"
        ],
        [
         "Medge Wolf",
         "Güstrow",
         "Nec LLC",
         null,
         null,
         "Jan 25, 2023",
         "Software Engineer"
        ],
        [
         "Rylee Love",
         "Loncoche",
         "Elit Curabitur Inc.",
         null,
         null,
         "Feb 21, 2024",
         "Data Engineer"
        ],
        [
         "Walter Ortega",
         "Kotli",
         "Metus Aliquam LLC",
         null,
         null,
         "Oct 21, 2024",
         "Analyst"
        ],
        [
         "Alan Fischer",
         "Łomża",
         "Fringilla Donec Corp.",
         null,
         null,
         "Dec 11, 2023",
         "Reception"
        ],
        [
         "Colleen George",
         "Trollhättan",
         "Arcu Sed Associates",
         null,
         null,
         "Mar 13, 2024",
         "Manager"
        ],
        [
         "Blake Ingram",
         "Chakwal",
         "Felis Donec LLC",
         null,
         null,
         "Nov 7, 2024",
         "HR"
        ],
        [
         "Lael Brooks",
         "Linz",
         "Dignissim Lacus Aliquam LLP",
         null,
         null,
         "Aug 1, 2023",
         "Software Engineer"
        ]
       ],
       "datasetInfos": [],
       "dbfsResultPath": null,
       "isJsonSchema": true,
       "metadata": {},
       "overflow": false,
       "plotOptions": {
        "customPlotOptions": {},
        "displayType": "table",
        "pivotAggregation": null,
        "pivotColumns": null,
        "xColumns": null,
        "yColumns": null
       },
       "removedWidgets": [],
       "schema": [
        {
         "metadata": "{}",
         "name": "Name",
         "type": "\"string\""
        },
        {
         "metadata": "{}",
         "name": "Country",
         "type": "\"string\""
        },
        {
         "metadata": "{}",
         "name": "Company",
         "type": "\"string\""
        },
        {
         "metadata": "{}",
         "name": "Experience",
         "type": "\"integer\""
        },
        {
         "metadata": "{}",
         "name": "Salary",
         "type": "\"integer\""
        },
        {
         "metadata": "{}",
         "name": "date of joining",
         "type": "\"string\""
        },
        {
         "metadata": "{}",
         "name": "Department",
         "type": "\"string\""
        }
       ],
       "type": "table"
      }
     },
     "output_type": "display_data"
    }
   ],
   "source": [
    "# withColumn - used to modify the data in Experience column  added by 2\n",
    "spark_df.withColumn (\"Experience\", spark_df.Experience + 2).display()"
   ]
  },
  {
   "cell_type": "code",
   "execution_count": 0,
   "metadata": {
    "application/vnd.databricks.v1+cell": {
     "cellMetadata": {
      "byteLimit": 2048000,
      "rowLimit": 10000
     },
     "inputWidgets": {},
     "nuid": "c74893e8-70e5-430c-a2e2-0986eeb9c20a",
     "showTitle": false,
     "title": ""
    }
   },
   "outputs": [],
   "source": [
    "\n",
    "from pyspark.sql.functions import lit\n",
    "\n"
   ]
  },
  {
   "cell_type": "code",
   "execution_count": 0,
   "metadata": {
    "application/vnd.databricks.v1+cell": {
     "cellMetadata": {
      "byteLimit": 2048000,
      "rowLimit": 10000
     },
     "inputWidgets": {},
     "nuid": "38684f07-f888-4eac-a96e-5e2272736611",
     "showTitle": false,
     "title": ""
    }
   },
   "outputs": [
    {
     "output_type": "display_data",
     "data": {
      "text/html": [
       "<style scoped>\n",
       "  .table-result-container {\n",
       "    max-height: 300px;\n",
       "    overflow: auto;\n",
       "  }\n",
       "  table, th, td {\n",
       "    border: 1px solid black;\n",
       "    border-collapse: collapse;\n",
       "  }\n",
       "  th, td {\n",
       "    padding: 5px;\n",
       "  }\n",
       "  th {\n",
       "    text-align: left;\n",
       "  }\n",
       "</style><div class='table-result-container'><table class='table-result'><thead style='background-color: white'><tr><th>Name</th><th>Country</th><th>Company</th><th>Experience</th><th>Salary</th><th>date of joining</th><th>Department</th><th>Project</th></tr></thead><tbody><tr><td>Luke Hanson</td><td>Sydney</td><td>Eu Elit Limited</td><td>1</td><td>46205</td><td>Dec 13, 2023</td><td>HR</td><td>null</td></tr><tr><td>Katelyn Crawford</td><td>Manisa</td><td>Eu Ultrices Industries</td><td>1</td><td>37731</td><td>Jan 12, 2023</td><td>Finance</td><td>null</td></tr><tr><td>Aladdin Rios</td><td>Kohima</td><td>Lacinia Orci Foundation</td><td>2</td><td>43525</td><td>Jul 15, 2023</td><td>Sales</td><td>null</td></tr><tr><td>Zachary Wiley</td><td>Smolensk</td><td>Lorem Luctus Ut Ltd</td><td>2</td><td>39891</td><td>Jun 11, 2024</td><td>Software Engineer</td><td>null</td></tr><tr><td>Alfonso Sharpe</td><td>Montone</td><td>Mi LLC</td><td>2</td><td>56642</td><td>Mar 26, 2024</td><td>Data Engineer</td><td>null</td></tr><tr><td>Mary Kerr</td><td>Cañas</td><td>Nulla Eget LLC</td><td>3</td><td>60150</td><td>Jan 16, 2024</td><td>Analyst</td><td>null</td></tr><tr><td>Lamar Paul</td><td>Veere</td><td>Aenean Egestas Hendrerit Limited</td><td>3</td><td>54445</td><td>Feb 11, 2024</td><td>Reception</td><td>null</td></tr><tr><td>Rhiannon Cleveland</td><td>Gasteiz</td><td>Tincidunt Dui Associates</td><td>3</td><td>64445</td><td>Oct 4, 2023</td><td>HR</td><td>null</td></tr><tr><td>Gloria Richmond</td><td>Rotorua</td><td>Sit Amet Institute</td><td>3</td><td>57189</td><td>Sep 14, 2023</td><td>Finance</td><td>null</td></tr><tr><td>Germane Whitley</td><td>Anhui</td><td>Vulputate Foundation</td><td>3</td><td>63218</td><td>Nov 13, 2024</td><td>Sales</td><td>null</td></tr><tr><td>Teegan Larson</td><td>Hastings</td><td>Ut Tincidunt Associates</td><td>4</td><td>55794</td><td>May 30, 2023</td><td>Software Engineer</td><td>null</td></tr><tr><td>Jesse Cannon</td><td>Blois</td><td>Fringilla Cursus Ltd</td><td>4</td><td>56957</td><td>Jul 17, 2024</td><td>Data Engineer</td><td>null</td></tr><tr><td>Lareina Wade</td><td>Gijón</td><td>Erat Volutpat Nulla Ltd</td><td>4</td><td>57081</td><td>Jun 16, 2024</td><td>Analyst</td><td>null</td></tr><tr><td>Reuben Becker</td><td>Boryspil</td><td>Orci Lacus LLP</td><td>4</td><td>61111</td><td>Jul 19, 2023</td><td>Reception</td><td>null</td></tr><tr><td>Akeem Watson</td><td>Fremantle</td><td>Aliquet Diam LLP</td><td>4</td><td>67938</td><td>Nov 5, 2024</td><td>Manager</td><td>null</td></tr><tr><td>Branden Cline</td><td>Bolton</td><td>Aptent Taciti LLC</td><td>5</td><td>66029</td><td>Aug 9, 2024</td><td>HR</td><td>null</td></tr><tr><td>Breanna Juarez</td><td>San Clemente</td><td>Eget Venenatis Limited</td><td>5</td><td>83088</td><td>Jun 4, 2023</td><td>Manager</td><td>null</td></tr><tr><td>Leo Hill</td><td>Värnamo</td><td>Nisl PC</td><td>5</td><td>81363</td><td>May 26, 2023</td><td>Data Engineer</td><td>null</td></tr><tr><td>Iola Griffith</td><td>Kotli</td><td>Amet Diam Limited</td><td>6</td><td>93940</td><td>Aug 27, 2024</td><td>Analyst</td><td>null</td></tr><tr><td>Kyle Fitzpatrick</td><td>Osasco</td><td>Facilisis Lorem Inc.</td><td>6</td><td>91738</td><td>Oct 27, 2024</td><td>Manager</td><td>null</td></tr><tr><td>Cynthia Hicks</td><td>Bislig</td><td>Lectus Cum Industries</td><td>7</td><td>98273</td><td>Feb 24, 2024</td><td>Sales head</td><td>null</td></tr><tr><td>Geraldine Rutledge</td><td>Laakirchen</td><td>Dis Parturient Montes Institute</td><td>7</td><td>101302</td><td>May 16, 2024</td><td>Data Engineer</td><td>null</td></tr><tr><td>Hayfa Bush</td><td>Changi Bay</td><td>Erat In Associates</td><td>8</td><td>113812</td><td>Nov 21, 2023</td><td>Analyst</td><td>null</td></tr><tr><td>Teegan Wallace</td><td>Chía</td><td>Eleifend Industries</td><td>8</td><td>109431</td><td>Jul 29, 2024</td><td>Data Engineer</td><td>null</td></tr><tr><td>Adara Hardin</td><td>Ulyanovsk</td><td>Porttitor Scelerisque Limited</td><td>9</td><td>105582</td><td>Oct 16, 2023</td><td>Analyst</td><td>null</td></tr><tr><td>Kim Carson</td><td>Kraków</td><td>Tempor Corporation</td><td>9</td><td>116969</td><td>Dec 22, 2022</td><td>Manager</td><td>null</td></tr><tr><td>Eagan Kline</td><td>San Andrés</td><td>Ridiculus Mus Foundation</td><td>9</td><td>112635</td><td>Sep 10, 2023</td><td>HR</td><td>null</td></tr><tr><td>Karen Newman</td><td>Chonchi</td><td>Blandit Viverra PC</td><td>10</td><td>122391</td><td>May 17, 2024</td><td>Sales head</td><td>null</td></tr><tr><td>Dennis Potts</td><td>Hudiksvall</td><td>Pellentesque Tellus Consulting</td><td>10</td><td>121872</td><td>Nov 9, 2024</td><td>Sales</td><td>null</td></tr><tr><td>Amity Hodges</td><td>Banjar</td><td>Mauris Rhoncus Id Industries</td><td>null</td><td>null</td><td>Oct 2, 2023</td><td>Software Engineer</td><td>null</td></tr><tr><td>Nadine Cantu</td><td>Vitória da Conquista</td><td>Ac Corporation</td><td>null</td><td>null</td><td>Jan 20, 2023</td><td>Sales head</td><td>null</td></tr><tr><td>Jerry Lyons</td><td>Mandal</td><td>Enim Suspendisse Company</td><td>null</td><td>null</td><td>Apr 2, 2024</td><td>Finance</td><td>null</td></tr><tr><td>Howard Beck</td><td>Rockingham</td><td>Mauris Eu Turpis Corporation</td><td>null</td><td>null</td><td>Aug 13, 2023</td><td>Sales</td><td>null</td></tr><tr><td>Medge Wolf</td><td>Güstrow</td><td>Nec LLC</td><td>null</td><td>null</td><td>Jan 25, 2023</td><td>Software Engineer</td><td>null</td></tr><tr><td>Rylee Love</td><td>Loncoche</td><td>Elit Curabitur Inc.</td><td>null</td><td>null</td><td>Feb 21, 2024</td><td>Data Engineer</td><td>null</td></tr><tr><td>Walter Ortega</td><td>Kotli</td><td>Metus Aliquam LLC</td><td>null</td><td>null</td><td>Oct 21, 2024</td><td>Analyst</td><td>null</td></tr><tr><td>Alan Fischer</td><td>Łomża</td><td>Fringilla Donec Corp.</td><td>null</td><td>null</td><td>Dec 11, 2023</td><td>Reception</td><td>null</td></tr><tr><td>Colleen George</td><td>Trollhättan</td><td>Arcu Sed Associates</td><td>null</td><td>null</td><td>Mar 13, 2024</td><td>Manager</td><td>null</td></tr><tr><td>Blake Ingram</td><td>Chakwal</td><td>Felis Donec LLC</td><td>null</td><td>null</td><td>Nov 7, 2024</td><td>HR</td><td>null</td></tr><tr><td>Lael Brooks</td><td>Linz</td><td>Dignissim Lacus Aliquam LLP</td><td>null</td><td>null</td><td>Aug 1, 2023</td><td>Software Engineer</td><td>null</td></tr></tbody></table></div>"
      ]
     },
     "metadata": {
      "application/vnd.databricks.v1+output": {
       "addedWidgets": {},
       "aggData": [],
       "aggError": "",
       "aggOverflow": false,
       "aggSchema": [],
       "aggSeriesLimitReached": false,
       "aggType": "",
       "arguments": {},
       "columnCustomDisplayInfos": {},
       "data": [
        [
         "Luke Hanson",
         "Sydney",
         "Eu Elit Limited",
         1,
         46205,
         "Dec 13, 2023",
         "HR",
         null
        ],
        [
         "Katelyn Crawford",
         "Manisa",
         "Eu Ultrices Industries",
         1,
         37731,
         "Jan 12, 2023",
         "Finance",
         null
        ],
        [
         "Aladdin Rios",
         "Kohima",
         "Lacinia Orci Foundation",
         2,
         43525,
         "Jul 15, 2023",
         "Sales",
         null
        ],
        [
         "Zachary Wiley",
         "Smolensk",
         "Lorem Luctus Ut Ltd",
         2,
         39891,
         "Jun 11, 2024",
         "Software Engineer",
         null
        ],
        [
         "Alfonso Sharpe",
         "Montone",
         "Mi LLC",
         2,
         56642,
         "Mar 26, 2024",
         "Data Engineer",
         null
        ],
        [
         "Mary Kerr",
         "Cañas",
         "Nulla Eget LLC",
         3,
         60150,
         "Jan 16, 2024",
         "Analyst",
         null
        ],
        [
         "Lamar Paul",
         "Veere",
         "Aenean Egestas Hendrerit Limited",
         3,
         54445,
         "Feb 11, 2024",
         "Reception",
         null
        ],
        [
         "Rhiannon Cleveland",
         "Gasteiz",
         "Tincidunt Dui Associates",
         3,
         64445,
         "Oct 4, 2023",
         "HR",
         null
        ],
        [
         "Gloria Richmond",
         "Rotorua",
         "Sit Amet Institute",
         3,
         57189,
         "Sep 14, 2023",
         "Finance",
         null
        ],
        [
         "Germane Whitley",
         "Anhui",
         "Vulputate Foundation",
         3,
         63218,
         "Nov 13, 2024",
         "Sales",
         null
        ],
        [
         "Teegan Larson",
         "Hastings",
         "Ut Tincidunt Associates",
         4,
         55794,
         "May 30, 2023",
         "Software Engineer",
         null
        ],
        [
         "Jesse Cannon",
         "Blois",
         "Fringilla Cursus Ltd",
         4,
         56957,
         "Jul 17, 2024",
         "Data Engineer",
         null
        ],
        [
         "Lareina Wade",
         "Gijón",
         "Erat Volutpat Nulla Ltd",
         4,
         57081,
         "Jun 16, 2024",
         "Analyst",
         null
        ],
        [
         "Reuben Becker",
         "Boryspil",
         "Orci Lacus LLP",
         4,
         61111,
         "Jul 19, 2023",
         "Reception",
         null
        ],
        [
         "Akeem Watson",
         "Fremantle",
         "Aliquet Diam LLP",
         4,
         67938,
         "Nov 5, 2024",
         "Manager",
         null
        ],
        [
         "Branden Cline",
         "Bolton",
         "Aptent Taciti LLC",
         5,
         66029,
         "Aug 9, 2024",
         "HR",
         null
        ],
        [
         "Breanna Juarez",
         "San Clemente",
         "Eget Venenatis Limited",
         5,
         83088,
         "Jun 4, 2023",
         "Manager",
         null
        ],
        [
         "Leo Hill",
         "Värnamo",
         "Nisl PC",
         5,
         81363,
         "May 26, 2023",
         "Data Engineer",
         null
        ],
        [
         "Iola Griffith",
         "Kotli",
         "Amet Diam Limited",
         6,
         93940,
         "Aug 27, 2024",
         "Analyst",
         null
        ],
        [
         "Kyle Fitzpatrick",
         "Osasco",
         "Facilisis Lorem Inc.",
         6,
         91738,
         "Oct 27, 2024",
         "Manager",
         null
        ],
        [
         "Cynthia Hicks",
         "Bislig",
         "Lectus Cum Industries",
         7,
         98273,
         "Feb 24, 2024",
         "Sales head",
         null
        ],
        [
         "Geraldine Rutledge",
         "Laakirchen",
         "Dis Parturient Montes Institute",
         7,
         101302,
         "May 16, 2024",
         "Data Engineer",
         null
        ],
        [
         "Hayfa Bush",
         "Changi Bay",
         "Erat In Associates",
         8,
         113812,
         "Nov 21, 2023",
         "Analyst",
         null
        ],
        [
         "Teegan Wallace",
         "Chía",
         "Eleifend Industries",
         8,
         109431,
         "Jul 29, 2024",
         "Data Engineer",
         null
        ],
        [
         "Adara Hardin",
         "Ulyanovsk",
         "Porttitor Scelerisque Limited",
         9,
         105582,
         "Oct 16, 2023",
         "Analyst",
         null
        ],
        [
         "Kim Carson",
         "Kraków",
         "Tempor Corporation",
         9,
         116969,
         "Dec 22, 2022",
         "Manager",
         null
        ],
        [
         "Eagan Kline",
         "San Andrés",
         "Ridiculus Mus Foundation",
         9,
         112635,
         "Sep 10, 2023",
         "HR",
         null
        ],
        [
         "Karen Newman",
         "Chonchi",
         "Blandit Viverra PC",
         10,
         122391,
         "May 17, 2024",
         "Sales head",
         null
        ],
        [
         "Dennis Potts",
         "Hudiksvall",
         "Pellentesque Tellus Consulting",
         10,
         121872,
         "Nov 9, 2024",
         "Sales",
         null
        ],
        [
         "Amity Hodges",
         "Banjar",
         "Mauris Rhoncus Id Industries",
         null,
         null,
         "Oct 2, 2023",
         "Software Engineer",
         null
        ],
        [
         "Nadine Cantu",
         "Vitória da Conquista",
         "Ac Corporation",
         null,
         null,
         "Jan 20, 2023",
         "Sales head",
         null
        ],
        [
         "Jerry Lyons",
         "Mandal",
         "Enim Suspendisse Company",
         null,
         null,
         "Apr 2, 2024",
         "Finance",
         null
        ],
        [
         "Howard Beck",
         "Rockingham",
         "Mauris Eu Turpis Corporation",
         null,
         null,
         "Aug 13, 2023",
         "Sales",
         null
        ],
        [
         "Medge Wolf",
         "Güstrow",
         "Nec LLC",
         null,
         null,
         "Jan 25, 2023",
         "Software Engineer",
         null
        ],
        [
         "Rylee Love",
         "Loncoche",
         "Elit Curabitur Inc.",
         null,
         null,
         "Feb 21, 2024",
         "Data Engineer",
         null
        ],
        [
         "Walter Ortega",
         "Kotli",
         "Metus Aliquam LLC",
         null,
         null,
         "Oct 21, 2024",
         "Analyst",
         null
        ],
        [
         "Alan Fischer",
         "Łomża",
         "Fringilla Donec Corp.",
         null,
         null,
         "Dec 11, 2023",
         "Reception",
         null
        ],
        [
         "Colleen George",
         "Trollhättan",
         "Arcu Sed Associates",
         null,
         null,
         "Mar 13, 2024",
         "Manager",
         null
        ],
        [
         "Blake Ingram",
         "Chakwal",
         "Felis Donec LLC",
         null,
         null,
         "Nov 7, 2024",
         "HR",
         null
        ],
        [
         "Lael Brooks",
         "Linz",
         "Dignissim Lacus Aliquam LLP",
         null,
         null,
         "Aug 1, 2023",
         "Software Engineer",
         null
        ]
       ],
       "datasetInfos": [],
       "dbfsResultPath": null,
       "isJsonSchema": true,
       "metadata": {},
       "overflow": false,
       "plotOptions": {
        "customPlotOptions": {},
        "displayType": "table",
        "pivotAggregation": null,
        "pivotColumns": null,
        "xColumns": null,
        "yColumns": null
       },
       "removedWidgets": [],
       "schema": [
        {
         "metadata": "{}",
         "name": "Name",
         "type": "\"string\""
        },
        {
         "metadata": "{}",
         "name": "Country",
         "type": "\"string\""
        },
        {
         "metadata": "{}",
         "name": "Company",
         "type": "\"string\""
        },
        {
         "metadata": "{}",
         "name": "Experience",
         "type": "\"integer\""
        },
        {
         "metadata": "{}",
         "name": "Salary",
         "type": "\"integer\""
        },
        {
         "metadata": "{}",
         "name": "date of joining",
         "type": "\"string\""
        },
        {
         "metadata": "{}",
         "name": "Department",
         "type": "\"string\""
        },
        {
         "metadata": "{}",
         "name": "Project",
         "type": "\"string\""
        }
       ],
       "type": "table"
      }
     },
     "output_type": "display_data"
    }
   ],
   "source": [
    "# With Column - Lets create a new column and update the same data in the entire column\n",
    "spark_df.withColumn(\"Project\",lit(None).cast(\"String\")).display()"
   ]
  },
  {
   "cell_type": "code",
   "execution_count": 0,
   "metadata": {
    "application/vnd.databricks.v1+cell": {
     "cellMetadata": {
      "byteLimit": 2048000,
      "rowLimit": 10000
     },
     "inputWidgets": {},
     "nuid": "8d33fd48-4219-4395-97d8-158592c7df73",
     "showTitle": false,
     "title": ""
    }
   },
   "outputs": [
    {
     "output_type": "display_data",
     "data": {
      "text/html": [
       "<style scoped>\n",
       "  .table-result-container {\n",
       "    max-height: 300px;\n",
       "    overflow: auto;\n",
       "  }\n",
       "  table, th, td {\n",
       "    border: 1px solid black;\n",
       "    border-collapse: collapse;\n",
       "  }\n",
       "  th, td {\n",
       "    padding: 5px;\n",
       "  }\n",
       "  th {\n",
       "    text-align: left;\n",
       "  }\n",
       "</style><div class='table-result-container'><table class='table-result'><thead style='background-color: white'><tr><th>Name</th><th>Country</th><th>Company</th><th>Experience</th><th>Salary</th><th>date of joining</th><th>Department</th><th>Project</th></tr></thead><tbody><tr><td>Luke Hanson</td><td>Sydney</td><td>Eu Elit Limited</td><td>1</td><td>46205</td><td>Dec 13, 2023</td><td>HR</td><td>Aurora</td></tr><tr><td>Katelyn Crawford</td><td>Manisa</td><td>Eu Ultrices Industries</td><td>1</td><td>37731</td><td>Jan 12, 2023</td><td>Finance</td><td>Aurora</td></tr><tr><td>Aladdin Rios</td><td>Kohima</td><td>Lacinia Orci Foundation</td><td>2</td><td>43525</td><td>Jul 15, 2023</td><td>Sales</td><td>Aurora</td></tr><tr><td>Zachary Wiley</td><td>Smolensk</td><td>Lorem Luctus Ut Ltd</td><td>2</td><td>39891</td><td>Jun 11, 2024</td><td>Software Engineer</td><td>Aurora</td></tr><tr><td>Alfonso Sharpe</td><td>Montone</td><td>Mi LLC</td><td>2</td><td>56642</td><td>Mar 26, 2024</td><td>Data Engineer</td><td>Aurora</td></tr><tr><td>Mary Kerr</td><td>Cañas</td><td>Nulla Eget LLC</td><td>3</td><td>60150</td><td>Jan 16, 2024</td><td>Analyst</td><td>Aurora</td></tr><tr><td>Lamar Paul</td><td>Veere</td><td>Aenean Egestas Hendrerit Limited</td><td>3</td><td>54445</td><td>Feb 11, 2024</td><td>Reception</td><td>Aurora</td></tr><tr><td>Rhiannon Cleveland</td><td>Gasteiz</td><td>Tincidunt Dui Associates</td><td>3</td><td>64445</td><td>Oct 4, 2023</td><td>HR</td><td>Aurora</td></tr><tr><td>Gloria Richmond</td><td>Rotorua</td><td>Sit Amet Institute</td><td>3</td><td>57189</td><td>Sep 14, 2023</td><td>Finance</td><td>Aurora</td></tr><tr><td>Germane Whitley</td><td>Anhui</td><td>Vulputate Foundation</td><td>3</td><td>63218</td><td>Nov 13, 2024</td><td>Sales</td><td>Aurora</td></tr><tr><td>Teegan Larson</td><td>Hastings</td><td>Ut Tincidunt Associates</td><td>4</td><td>55794</td><td>May 30, 2023</td><td>Software Engineer</td><td>Aurora</td></tr><tr><td>Jesse Cannon</td><td>Blois</td><td>Fringilla Cursus Ltd</td><td>4</td><td>56957</td><td>Jul 17, 2024</td><td>Data Engineer</td><td>Aurora</td></tr><tr><td>Lareina Wade</td><td>Gijón</td><td>Erat Volutpat Nulla Ltd</td><td>4</td><td>57081</td><td>Jun 16, 2024</td><td>Analyst</td><td>Aurora</td></tr><tr><td>Reuben Becker</td><td>Boryspil</td><td>Orci Lacus LLP</td><td>4</td><td>61111</td><td>Jul 19, 2023</td><td>Reception</td><td>Aurora</td></tr><tr><td>Akeem Watson</td><td>Fremantle</td><td>Aliquet Diam LLP</td><td>4</td><td>67938</td><td>Nov 5, 2024</td><td>Manager</td><td>Aurora</td></tr><tr><td>Branden Cline</td><td>Bolton</td><td>Aptent Taciti LLC</td><td>5</td><td>66029</td><td>Aug 9, 2024</td><td>HR</td><td>Aurora</td></tr><tr><td>Breanna Juarez</td><td>San Clemente</td><td>Eget Venenatis Limited</td><td>5</td><td>83088</td><td>Jun 4, 2023</td><td>Manager</td><td>Aurora</td></tr><tr><td>Leo Hill</td><td>Värnamo</td><td>Nisl PC</td><td>5</td><td>81363</td><td>May 26, 2023</td><td>Data Engineer</td><td>Aurora</td></tr><tr><td>Iola Griffith</td><td>Kotli</td><td>Amet Diam Limited</td><td>6</td><td>93940</td><td>Aug 27, 2024</td><td>Analyst</td><td>Aurora</td></tr><tr><td>Kyle Fitzpatrick</td><td>Osasco</td><td>Facilisis Lorem Inc.</td><td>6</td><td>91738</td><td>Oct 27, 2024</td><td>Manager</td><td>Aurora</td></tr><tr><td>Cynthia Hicks</td><td>Bislig</td><td>Lectus Cum Industries</td><td>7</td><td>98273</td><td>Feb 24, 2024</td><td>Sales head</td><td>Aurora</td></tr><tr><td>Geraldine Rutledge</td><td>Laakirchen</td><td>Dis Parturient Montes Institute</td><td>7</td><td>101302</td><td>May 16, 2024</td><td>Data Engineer</td><td>Aurora</td></tr><tr><td>Hayfa Bush</td><td>Changi Bay</td><td>Erat In Associates</td><td>8</td><td>113812</td><td>Nov 21, 2023</td><td>Analyst</td><td>Aurora</td></tr><tr><td>Teegan Wallace</td><td>Chía</td><td>Eleifend Industries</td><td>8</td><td>109431</td><td>Jul 29, 2024</td><td>Data Engineer</td><td>Aurora</td></tr><tr><td>Adara Hardin</td><td>Ulyanovsk</td><td>Porttitor Scelerisque Limited</td><td>9</td><td>105582</td><td>Oct 16, 2023</td><td>Analyst</td><td>Aurora</td></tr><tr><td>Kim Carson</td><td>Kraków</td><td>Tempor Corporation</td><td>9</td><td>116969</td><td>Dec 22, 2022</td><td>Manager</td><td>Aurora</td></tr><tr><td>Eagan Kline</td><td>San Andrés</td><td>Ridiculus Mus Foundation</td><td>9</td><td>112635</td><td>Sep 10, 2023</td><td>HR</td><td>Aurora</td></tr><tr><td>Karen Newman</td><td>Chonchi</td><td>Blandit Viverra PC</td><td>10</td><td>122391</td><td>May 17, 2024</td><td>Sales head</td><td>Aurora</td></tr><tr><td>Dennis Potts</td><td>Hudiksvall</td><td>Pellentesque Tellus Consulting</td><td>10</td><td>121872</td><td>Nov 9, 2024</td><td>Sales</td><td>Aurora</td></tr><tr><td>Amity Hodges</td><td>Banjar</td><td>Mauris Rhoncus Id Industries</td><td>null</td><td>null</td><td>Oct 2, 2023</td><td>Software Engineer</td><td>Aurora</td></tr><tr><td>Nadine Cantu</td><td>Vitória da Conquista</td><td>Ac Corporation</td><td>null</td><td>null</td><td>Jan 20, 2023</td><td>Sales head</td><td>Aurora</td></tr><tr><td>Jerry Lyons</td><td>Mandal</td><td>Enim Suspendisse Company</td><td>null</td><td>null</td><td>Apr 2, 2024</td><td>Finance</td><td>Aurora</td></tr><tr><td>Howard Beck</td><td>Rockingham</td><td>Mauris Eu Turpis Corporation</td><td>null</td><td>null</td><td>Aug 13, 2023</td><td>Sales</td><td>Aurora</td></tr><tr><td>Medge Wolf</td><td>Güstrow</td><td>Nec LLC</td><td>null</td><td>null</td><td>Jan 25, 2023</td><td>Software Engineer</td><td>Aurora</td></tr><tr><td>Rylee Love</td><td>Loncoche</td><td>Elit Curabitur Inc.</td><td>null</td><td>null</td><td>Feb 21, 2024</td><td>Data Engineer</td><td>Aurora</td></tr><tr><td>Walter Ortega</td><td>Kotli</td><td>Metus Aliquam LLC</td><td>null</td><td>null</td><td>Oct 21, 2024</td><td>Analyst</td><td>Aurora</td></tr><tr><td>Alan Fischer</td><td>Łomża</td><td>Fringilla Donec Corp.</td><td>null</td><td>null</td><td>Dec 11, 2023</td><td>Reception</td><td>Aurora</td></tr><tr><td>Colleen George</td><td>Trollhättan</td><td>Arcu Sed Associates</td><td>null</td><td>null</td><td>Mar 13, 2024</td><td>Manager</td><td>Aurora</td></tr><tr><td>Blake Ingram</td><td>Chakwal</td><td>Felis Donec LLC</td><td>null</td><td>null</td><td>Nov 7, 2024</td><td>HR</td><td>Aurora</td></tr><tr><td>Lael Brooks</td><td>Linz</td><td>Dignissim Lacus Aliquam LLP</td><td>null</td><td>null</td><td>Aug 1, 2023</td><td>Software Engineer</td><td>Aurora</td></tr></tbody></table></div>"
      ]
     },
     "metadata": {
      "application/vnd.databricks.v1+output": {
       "addedWidgets": {},
       "aggData": [],
       "aggError": "",
       "aggOverflow": false,
       "aggSchema": [],
       "aggSeriesLimitReached": false,
       "aggType": "",
       "arguments": {},
       "columnCustomDisplayInfos": {},
       "data": [
        [
         "Luke Hanson",
         "Sydney",
         "Eu Elit Limited",
         1,
         46205,
         "Dec 13, 2023",
         "HR",
         "Aurora"
        ],
        [
         "Katelyn Crawford",
         "Manisa",
         "Eu Ultrices Industries",
         1,
         37731,
         "Jan 12, 2023",
         "Finance",
         "Aurora"
        ],
        [
         "Aladdin Rios",
         "Kohima",
         "Lacinia Orci Foundation",
         2,
         43525,
         "Jul 15, 2023",
         "Sales",
         "Aurora"
        ],
        [
         "Zachary Wiley",
         "Smolensk",
         "Lorem Luctus Ut Ltd",
         2,
         39891,
         "Jun 11, 2024",
         "Software Engineer",
         "Aurora"
        ],
        [
         "Alfonso Sharpe",
         "Montone",
         "Mi LLC",
         2,
         56642,
         "Mar 26, 2024",
         "Data Engineer",
         "Aurora"
        ],
        [
         "Mary Kerr",
         "Cañas",
         "Nulla Eget LLC",
         3,
         60150,
         "Jan 16, 2024",
         "Analyst",
         "Aurora"
        ],
        [
         "Lamar Paul",
         "Veere",
         "Aenean Egestas Hendrerit Limited",
         3,
         54445,
         "Feb 11, 2024",
         "Reception",
         "Aurora"
        ],
        [
         "Rhiannon Cleveland",
         "Gasteiz",
         "Tincidunt Dui Associates",
         3,
         64445,
         "Oct 4, 2023",
         "HR",
         "Aurora"
        ],
        [
         "Gloria Richmond",
         "Rotorua",
         "Sit Amet Institute",
         3,
         57189,
         "Sep 14, 2023",
         "Finance",
         "Aurora"
        ],
        [
         "Germane Whitley",
         "Anhui",
         "Vulputate Foundation",
         3,
         63218,
         "Nov 13, 2024",
         "Sales",
         "Aurora"
        ],
        [
         "Teegan Larson",
         "Hastings",
         "Ut Tincidunt Associates",
         4,
         55794,
         "May 30, 2023",
         "Software Engineer",
         "Aurora"
        ],
        [
         "Jesse Cannon",
         "Blois",
         "Fringilla Cursus Ltd",
         4,
         56957,
         "Jul 17, 2024",
         "Data Engineer",
         "Aurora"
        ],
        [
         "Lareina Wade",
         "Gijón",
         "Erat Volutpat Nulla Ltd",
         4,
         57081,
         "Jun 16, 2024",
         "Analyst",
         "Aurora"
        ],
        [
         "Reuben Becker",
         "Boryspil",
         "Orci Lacus LLP",
         4,
         61111,
         "Jul 19, 2023",
         "Reception",
         "Aurora"
        ],
        [
         "Akeem Watson",
         "Fremantle",
         "Aliquet Diam LLP",
         4,
         67938,
         "Nov 5, 2024",
         "Manager",
         "Aurora"
        ],
        [
         "Branden Cline",
         "Bolton",
         "Aptent Taciti LLC",
         5,
         66029,
         "Aug 9, 2024",
         "HR",
         "Aurora"
        ],
        [
         "Breanna Juarez",
         "San Clemente",
         "Eget Venenatis Limited",
         5,
         83088,
         "Jun 4, 2023",
         "Manager",
         "Aurora"
        ],
        [
         "Leo Hill",
         "Värnamo",
         "Nisl PC",
         5,
         81363,
         "May 26, 2023",
         "Data Engineer",
         "Aurora"
        ],
        [
         "Iola Griffith",
         "Kotli",
         "Amet Diam Limited",
         6,
         93940,
         "Aug 27, 2024",
         "Analyst",
         "Aurora"
        ],
        [
         "Kyle Fitzpatrick",
         "Osasco",
         "Facilisis Lorem Inc.",
         6,
         91738,
         "Oct 27, 2024",
         "Manager",
         "Aurora"
        ],
        [
         "Cynthia Hicks",
         "Bislig",
         "Lectus Cum Industries",
         7,
         98273,
         "Feb 24, 2024",
         "Sales head",
         "Aurora"
        ],
        [
         "Geraldine Rutledge",
         "Laakirchen",
         "Dis Parturient Montes Institute",
         7,
         101302,
         "May 16, 2024",
         "Data Engineer",
         "Aurora"
        ],
        [
         "Hayfa Bush",
         "Changi Bay",
         "Erat In Associates",
         8,
         113812,
         "Nov 21, 2023",
         "Analyst",
         "Aurora"
        ],
        [
         "Teegan Wallace",
         "Chía",
         "Eleifend Industries",
         8,
         109431,
         "Jul 29, 2024",
         "Data Engineer",
         "Aurora"
        ],
        [
         "Adara Hardin",
         "Ulyanovsk",
         "Porttitor Scelerisque Limited",
         9,
         105582,
         "Oct 16, 2023",
         "Analyst",
         "Aurora"
        ],
        [
         "Kim Carson",
         "Kraków",
         "Tempor Corporation",
         9,
         116969,
         "Dec 22, 2022",
         "Manager",
         "Aurora"
        ],
        [
         "Eagan Kline",
         "San Andrés",
         "Ridiculus Mus Foundation",
         9,
         112635,
         "Sep 10, 2023",
         "HR",
         "Aurora"
        ],
        [
         "Karen Newman",
         "Chonchi",
         "Blandit Viverra PC",
         10,
         122391,
         "May 17, 2024",
         "Sales head",
         "Aurora"
        ],
        [
         "Dennis Potts",
         "Hudiksvall",
         "Pellentesque Tellus Consulting",
         10,
         121872,
         "Nov 9, 2024",
         "Sales",
         "Aurora"
        ],
        [
         "Amity Hodges",
         "Banjar",
         "Mauris Rhoncus Id Industries",
         null,
         null,
         "Oct 2, 2023",
         "Software Engineer",
         "Aurora"
        ],
        [
         "Nadine Cantu",
         "Vitória da Conquista",
         "Ac Corporation",
         null,
         null,
         "Jan 20, 2023",
         "Sales head",
         "Aurora"
        ],
        [
         "Jerry Lyons",
         "Mandal",
         "Enim Suspendisse Company",
         null,
         null,
         "Apr 2, 2024",
         "Finance",
         "Aurora"
        ],
        [
         "Howard Beck",
         "Rockingham",
         "Mauris Eu Turpis Corporation",
         null,
         null,
         "Aug 13, 2023",
         "Sales",
         "Aurora"
        ],
        [
         "Medge Wolf",
         "Güstrow",
         "Nec LLC",
         null,
         null,
         "Jan 25, 2023",
         "Software Engineer",
         "Aurora"
        ],
        [
         "Rylee Love",
         "Loncoche",
         "Elit Curabitur Inc.",
         null,
         null,
         "Feb 21, 2024",
         "Data Engineer",
         "Aurora"
        ],
        [
         "Walter Ortega",
         "Kotli",
         "Metus Aliquam LLC",
         null,
         null,
         "Oct 21, 2024",
         "Analyst",
         "Aurora"
        ],
        [
         "Alan Fischer",
         "Łomża",
         "Fringilla Donec Corp.",
         null,
         null,
         "Dec 11, 2023",
         "Reception",
         "Aurora"
        ],
        [
         "Colleen George",
         "Trollhättan",
         "Arcu Sed Associates",
         null,
         null,
         "Mar 13, 2024",
         "Manager",
         "Aurora"
        ],
        [
         "Blake Ingram",
         "Chakwal",
         "Felis Donec LLC",
         null,
         null,
         "Nov 7, 2024",
         "HR",
         "Aurora"
        ],
        [
         "Lael Brooks",
         "Linz",
         "Dignissim Lacus Aliquam LLP",
         null,
         null,
         "Aug 1, 2023",
         "Software Engineer",
         "Aurora"
        ]
       ],
       "datasetInfos": [],
       "dbfsResultPath": null,
       "isJsonSchema": true,
       "metadata": {},
       "overflow": false,
       "plotOptions": {
        "customPlotOptions": {},
        "displayType": "table",
        "pivotAggregation": null,
        "pivotColumns": null,
        "xColumns": null,
        "yColumns": null
       },
       "removedWidgets": [],
       "schema": [
        {
         "metadata": "{}",
         "name": "Name",
         "type": "\"string\""
        },
        {
         "metadata": "{}",
         "name": "Country",
         "type": "\"string\""
        },
        {
         "metadata": "{}",
         "name": "Company",
         "type": "\"string\""
        },
        {
         "metadata": "{}",
         "name": "Experience",
         "type": "\"integer\""
        },
        {
         "metadata": "{}",
         "name": "Salary",
         "type": "\"integer\""
        },
        {
         "metadata": "{}",
         "name": "date of joining",
         "type": "\"string\""
        },
        {
         "metadata": "{}",
         "name": "Department",
         "type": "\"string\""
        },
        {
         "metadata": "{}",
         "name": "Project",
         "type": "\"string\""
        }
       ],
       "type": "table"
      }
     },
     "output_type": "display_data"
    }
   ],
   "source": [
    "spark_df.withColumn(\"Project\",lit(\"Aurora\")).display()"
   ]
  },
  {
   "cell_type": "code",
   "execution_count": 0,
   "metadata": {
    "application/vnd.databricks.v1+cell": {
     "cellMetadata": {
      "byteLimit": 2048000,
      "rowLimit": 10000
     },
     "inputWidgets": {},
     "nuid": "a14c538b-78ca-48e1-8cfb-abeb27de7aad",
     "showTitle": false,
     "title": ""
    }
   },
   "outputs": [
    {
     "output_type": "display_data",
     "data": {
      "text/html": [
       "<style scoped>\n",
       "  .table-result-container {\n",
       "    max-height: 300px;\n",
       "    overflow: auto;\n",
       "  }\n",
       "  table, th, td {\n",
       "    border: 1px solid black;\n",
       "    border-collapse: collapse;\n",
       "  }\n",
       "  th, td {\n",
       "    padding: 5px;\n",
       "  }\n",
       "  th {\n",
       "    text-align: left;\n",
       "  }\n",
       "</style><div class='table-result-container'><table class='table-result'><thead style='background-color: white'><tr><th>Name</th><th>Country</th><th>Company</th><th>Experience</th><th>Salary</th><th>Joining_date</th><th>Department</th></tr></thead><tbody><tr><td>Luke Hanson</td><td>Sydney</td><td>Eu Elit Limited</td><td>1</td><td>46205</td><td>Dec 13, 2023</td><td>HR</td></tr><tr><td>Katelyn Crawford</td><td>Manisa</td><td>Eu Ultrices Industries</td><td>1</td><td>37731</td><td>Jan 12, 2023</td><td>Finance</td></tr><tr><td>Aladdin Rios</td><td>Kohima</td><td>Lacinia Orci Foundation</td><td>2</td><td>43525</td><td>Jul 15, 2023</td><td>Sales</td></tr><tr><td>Zachary Wiley</td><td>Smolensk</td><td>Lorem Luctus Ut Ltd</td><td>2</td><td>39891</td><td>Jun 11, 2024</td><td>Software Engineer</td></tr><tr><td>Alfonso Sharpe</td><td>Montone</td><td>Mi LLC</td><td>2</td><td>56642</td><td>Mar 26, 2024</td><td>Data Engineer</td></tr><tr><td>Mary Kerr</td><td>Cañas</td><td>Nulla Eget LLC</td><td>3</td><td>60150</td><td>Jan 16, 2024</td><td>Analyst</td></tr><tr><td>Lamar Paul</td><td>Veere</td><td>Aenean Egestas Hendrerit Limited</td><td>3</td><td>54445</td><td>Feb 11, 2024</td><td>Reception</td></tr><tr><td>Rhiannon Cleveland</td><td>Gasteiz</td><td>Tincidunt Dui Associates</td><td>3</td><td>64445</td><td>Oct 4, 2023</td><td>HR</td></tr><tr><td>Gloria Richmond</td><td>Rotorua</td><td>Sit Amet Institute</td><td>3</td><td>57189</td><td>Sep 14, 2023</td><td>Finance</td></tr><tr><td>Germane Whitley</td><td>Anhui</td><td>Vulputate Foundation</td><td>3</td><td>63218</td><td>Nov 13, 2024</td><td>Sales</td></tr><tr><td>Teegan Larson</td><td>Hastings</td><td>Ut Tincidunt Associates</td><td>4</td><td>55794</td><td>May 30, 2023</td><td>Software Engineer</td></tr><tr><td>Jesse Cannon</td><td>Blois</td><td>Fringilla Cursus Ltd</td><td>4</td><td>56957</td><td>Jul 17, 2024</td><td>Data Engineer</td></tr><tr><td>Lareina Wade</td><td>Gijón</td><td>Erat Volutpat Nulla Ltd</td><td>4</td><td>57081</td><td>Jun 16, 2024</td><td>Analyst</td></tr><tr><td>Reuben Becker</td><td>Boryspil</td><td>Orci Lacus LLP</td><td>4</td><td>61111</td><td>Jul 19, 2023</td><td>Reception</td></tr><tr><td>Akeem Watson</td><td>Fremantle</td><td>Aliquet Diam LLP</td><td>4</td><td>67938</td><td>Nov 5, 2024</td><td>Manager</td></tr><tr><td>Branden Cline</td><td>Bolton</td><td>Aptent Taciti LLC</td><td>5</td><td>66029</td><td>Aug 9, 2024</td><td>HR</td></tr><tr><td>Breanna Juarez</td><td>San Clemente</td><td>Eget Venenatis Limited</td><td>5</td><td>83088</td><td>Jun 4, 2023</td><td>Manager</td></tr><tr><td>Leo Hill</td><td>Värnamo</td><td>Nisl PC</td><td>5</td><td>81363</td><td>May 26, 2023</td><td>Data Engineer</td></tr><tr><td>Iola Griffith</td><td>Kotli</td><td>Amet Diam Limited</td><td>6</td><td>93940</td><td>Aug 27, 2024</td><td>Analyst</td></tr><tr><td>Kyle Fitzpatrick</td><td>Osasco</td><td>Facilisis Lorem Inc.</td><td>6</td><td>91738</td><td>Oct 27, 2024</td><td>Manager</td></tr><tr><td>Cynthia Hicks</td><td>Bislig</td><td>Lectus Cum Industries</td><td>7</td><td>98273</td><td>Feb 24, 2024</td><td>Sales head</td></tr><tr><td>Geraldine Rutledge</td><td>Laakirchen</td><td>Dis Parturient Montes Institute</td><td>7</td><td>101302</td><td>May 16, 2024</td><td>Data Engineer</td></tr><tr><td>Hayfa Bush</td><td>Changi Bay</td><td>Erat In Associates</td><td>8</td><td>113812</td><td>Nov 21, 2023</td><td>Analyst</td></tr><tr><td>Teegan Wallace</td><td>Chía</td><td>Eleifend Industries</td><td>8</td><td>109431</td><td>Jul 29, 2024</td><td>Data Engineer</td></tr><tr><td>Adara Hardin</td><td>Ulyanovsk</td><td>Porttitor Scelerisque Limited</td><td>9</td><td>105582</td><td>Oct 16, 2023</td><td>Analyst</td></tr><tr><td>Kim Carson</td><td>Kraków</td><td>Tempor Corporation</td><td>9</td><td>116969</td><td>Dec 22, 2022</td><td>Manager</td></tr><tr><td>Eagan Kline</td><td>San Andrés</td><td>Ridiculus Mus Foundation</td><td>9</td><td>112635</td><td>Sep 10, 2023</td><td>HR</td></tr><tr><td>Karen Newman</td><td>Chonchi</td><td>Blandit Viverra PC</td><td>10</td><td>122391</td><td>May 17, 2024</td><td>Sales head</td></tr><tr><td>Dennis Potts</td><td>Hudiksvall</td><td>Pellentesque Tellus Consulting</td><td>10</td><td>121872</td><td>Nov 9, 2024</td><td>Sales</td></tr><tr><td>Amity Hodges</td><td>Banjar</td><td>Mauris Rhoncus Id Industries</td><td>null</td><td>null</td><td>Oct 2, 2023</td><td>Software Engineer</td></tr><tr><td>Nadine Cantu</td><td>Vitória da Conquista</td><td>Ac Corporation</td><td>null</td><td>null</td><td>Jan 20, 2023</td><td>Sales head</td></tr><tr><td>Jerry Lyons</td><td>Mandal</td><td>Enim Suspendisse Company</td><td>null</td><td>null</td><td>Apr 2, 2024</td><td>Finance</td></tr><tr><td>Howard Beck</td><td>Rockingham</td><td>Mauris Eu Turpis Corporation</td><td>null</td><td>null</td><td>Aug 13, 2023</td><td>Sales</td></tr><tr><td>Medge Wolf</td><td>Güstrow</td><td>Nec LLC</td><td>null</td><td>null</td><td>Jan 25, 2023</td><td>Software Engineer</td></tr><tr><td>Rylee Love</td><td>Loncoche</td><td>Elit Curabitur Inc.</td><td>null</td><td>null</td><td>Feb 21, 2024</td><td>Data Engineer</td></tr><tr><td>Walter Ortega</td><td>Kotli</td><td>Metus Aliquam LLC</td><td>null</td><td>null</td><td>Oct 21, 2024</td><td>Analyst</td></tr><tr><td>Alan Fischer</td><td>Łomża</td><td>Fringilla Donec Corp.</td><td>null</td><td>null</td><td>Dec 11, 2023</td><td>Reception</td></tr><tr><td>Colleen George</td><td>Trollhättan</td><td>Arcu Sed Associates</td><td>null</td><td>null</td><td>Mar 13, 2024</td><td>Manager</td></tr><tr><td>Blake Ingram</td><td>Chakwal</td><td>Felis Donec LLC</td><td>null</td><td>null</td><td>Nov 7, 2024</td><td>HR</td></tr><tr><td>Lael Brooks</td><td>Linz</td><td>Dignissim Lacus Aliquam LLP</td><td>null</td><td>null</td><td>Aug 1, 2023</td><td>Software Engineer</td></tr></tbody></table></div>"
      ]
     },
     "metadata": {
      "application/vnd.databricks.v1+output": {
       "addedWidgets": {},
       "aggData": [],
       "aggError": "",
       "aggOverflow": false,
       "aggSchema": [],
       "aggSeriesLimitReached": false,
       "aggType": "",
       "arguments": {},
       "columnCustomDisplayInfos": {},
       "data": [
        [
         "Luke Hanson",
         "Sydney",
         "Eu Elit Limited",
         1,
         46205,
         "Dec 13, 2023",
         "HR"
        ],
        [
         "Katelyn Crawford",
         "Manisa",
         "Eu Ultrices Industries",
         1,
         37731,
         "Jan 12, 2023",
         "Finance"
        ],
        [
         "Aladdin Rios",
         "Kohima",
         "Lacinia Orci Foundation",
         2,
         43525,
         "Jul 15, 2023",
         "Sales"
        ],
        [
         "Zachary Wiley",
         "Smolensk",
         "Lorem Luctus Ut Ltd",
         2,
         39891,
         "Jun 11, 2024",
         "Software Engineer"
        ],
        [
         "Alfonso Sharpe",
         "Montone",
         "Mi LLC",
         2,
         56642,
         "Mar 26, 2024",
         "Data Engineer"
        ],
        [
         "Mary Kerr",
         "Cañas",
         "Nulla Eget LLC",
         3,
         60150,
         "Jan 16, 2024",
         "Analyst"
        ],
        [
         "Lamar Paul",
         "Veere",
         "Aenean Egestas Hendrerit Limited",
         3,
         54445,
         "Feb 11, 2024",
         "Reception"
        ],
        [
         "Rhiannon Cleveland",
         "Gasteiz",
         "Tincidunt Dui Associates",
         3,
         64445,
         "Oct 4, 2023",
         "HR"
        ],
        [
         "Gloria Richmond",
         "Rotorua",
         "Sit Amet Institute",
         3,
         57189,
         "Sep 14, 2023",
         "Finance"
        ],
        [
         "Germane Whitley",
         "Anhui",
         "Vulputate Foundation",
         3,
         63218,
         "Nov 13, 2024",
         "Sales"
        ],
        [
         "Teegan Larson",
         "Hastings",
         "Ut Tincidunt Associates",
         4,
         55794,
         "May 30, 2023",
         "Software Engineer"
        ],
        [
         "Jesse Cannon",
         "Blois",
         "Fringilla Cursus Ltd",
         4,
         56957,
         "Jul 17, 2024",
         "Data Engineer"
        ],
        [
         "Lareina Wade",
         "Gijón",
         "Erat Volutpat Nulla Ltd",
         4,
         57081,
         "Jun 16, 2024",
         "Analyst"
        ],
        [
         "Reuben Becker",
         "Boryspil",
         "Orci Lacus LLP",
         4,
         61111,
         "Jul 19, 2023",
         "Reception"
        ],
        [
         "Akeem Watson",
         "Fremantle",
         "Aliquet Diam LLP",
         4,
         67938,
         "Nov 5, 2024",
         "Manager"
        ],
        [
         "Branden Cline",
         "Bolton",
         "Aptent Taciti LLC",
         5,
         66029,
         "Aug 9, 2024",
         "HR"
        ],
        [
         "Breanna Juarez",
         "San Clemente",
         "Eget Venenatis Limited",
         5,
         83088,
         "Jun 4, 2023",
         "Manager"
        ],
        [
         "Leo Hill",
         "Värnamo",
         "Nisl PC",
         5,
         81363,
         "May 26, 2023",
         "Data Engineer"
        ],
        [
         "Iola Griffith",
         "Kotli",
         "Amet Diam Limited",
         6,
         93940,
         "Aug 27, 2024",
         "Analyst"
        ],
        [
         "Kyle Fitzpatrick",
         "Osasco",
         "Facilisis Lorem Inc.",
         6,
         91738,
         "Oct 27, 2024",
         "Manager"
        ],
        [
         "Cynthia Hicks",
         "Bislig",
         "Lectus Cum Industries",
         7,
         98273,
         "Feb 24, 2024",
         "Sales head"
        ],
        [
         "Geraldine Rutledge",
         "Laakirchen",
         "Dis Parturient Montes Institute",
         7,
         101302,
         "May 16, 2024",
         "Data Engineer"
        ],
        [
         "Hayfa Bush",
         "Changi Bay",
         "Erat In Associates",
         8,
         113812,
         "Nov 21, 2023",
         "Analyst"
        ],
        [
         "Teegan Wallace",
         "Chía",
         "Eleifend Industries",
         8,
         109431,
         "Jul 29, 2024",
         "Data Engineer"
        ],
        [
         "Adara Hardin",
         "Ulyanovsk",
         "Porttitor Scelerisque Limited",
         9,
         105582,
         "Oct 16, 2023",
         "Analyst"
        ],
        [
         "Kim Carson",
         "Kraków",
         "Tempor Corporation",
         9,
         116969,
         "Dec 22, 2022",
         "Manager"
        ],
        [
         "Eagan Kline",
         "San Andrés",
         "Ridiculus Mus Foundation",
         9,
         112635,
         "Sep 10, 2023",
         "HR"
        ],
        [
         "Karen Newman",
         "Chonchi",
         "Blandit Viverra PC",
         10,
         122391,
         "May 17, 2024",
         "Sales head"
        ],
        [
         "Dennis Potts",
         "Hudiksvall",
         "Pellentesque Tellus Consulting",
         10,
         121872,
         "Nov 9, 2024",
         "Sales"
        ],
        [
         "Amity Hodges",
         "Banjar",
         "Mauris Rhoncus Id Industries",
         null,
         null,
         "Oct 2, 2023",
         "Software Engineer"
        ],
        [
         "Nadine Cantu",
         "Vitória da Conquista",
         "Ac Corporation",
         null,
         null,
         "Jan 20, 2023",
         "Sales head"
        ],
        [
         "Jerry Lyons",
         "Mandal",
         "Enim Suspendisse Company",
         null,
         null,
         "Apr 2, 2024",
         "Finance"
        ],
        [
         "Howard Beck",
         "Rockingham",
         "Mauris Eu Turpis Corporation",
         null,
         null,
         "Aug 13, 2023",
         "Sales"
        ],
        [
         "Medge Wolf",
         "Güstrow",
         "Nec LLC",
         null,
         null,
         "Jan 25, 2023",
         "Software Engineer"
        ],
        [
         "Rylee Love",
         "Loncoche",
         "Elit Curabitur Inc.",
         null,
         null,
         "Feb 21, 2024",
         "Data Engineer"
        ],
        [
         "Walter Ortega",
         "Kotli",
         "Metus Aliquam LLC",
         null,
         null,
         "Oct 21, 2024",
         "Analyst"
        ],
        [
         "Alan Fischer",
         "Łomża",
         "Fringilla Donec Corp.",
         null,
         null,
         "Dec 11, 2023",
         "Reception"
        ],
        [
         "Colleen George",
         "Trollhättan",
         "Arcu Sed Associates",
         null,
         null,
         "Mar 13, 2024",
         "Manager"
        ],
        [
         "Blake Ingram",
         "Chakwal",
         "Felis Donec LLC",
         null,
         null,
         "Nov 7, 2024",
         "HR"
        ],
        [
         "Lael Brooks",
         "Linz",
         "Dignissim Lacus Aliquam LLP",
         null,
         null,
         "Aug 1, 2023",
         "Software Engineer"
        ]
       ],
       "datasetInfos": [],
       "dbfsResultPath": null,
       "isJsonSchema": true,
       "metadata": {},
       "overflow": false,
       "plotOptions": {
        "customPlotOptions": {},
        "displayType": "table",
        "pivotAggregation": null,
        "pivotColumns": null,
        "xColumns": null,
        "yColumns": null
       },
       "removedWidgets": [],
       "schema": [
        {
         "metadata": "{}",
         "name": "Name",
         "type": "\"string\""
        },
        {
         "metadata": "{}",
         "name": "Country",
         "type": "\"string\""
        },
        {
         "metadata": "{}",
         "name": "Company",
         "type": "\"string\""
        },
        {
         "metadata": "{}",
         "name": "Experience",
         "type": "\"integer\""
        },
        {
         "metadata": "{}",
         "name": "Salary",
         "type": "\"integer\""
        },
        {
         "metadata": "{}",
         "name": "Joining_date",
         "type": "\"string\""
        },
        {
         "metadata": "{}",
         "name": "Department",
         "type": "\"string\""
        }
       ],
       "type": "table"
      }
     },
     "output_type": "display_data"
    }
   ],
   "source": [
    "#Rename Date of Joining with Joing date using With column\n",
    "spark_df.withColumnRenamed(\"date of joining\",\"Joining_date\").display()\n"
   ]
  },
  {
   "cell_type": "code",
   "execution_count": 0,
   "metadata": {
    "application/vnd.databricks.v1+cell": {
     "cellMetadata": {},
     "inputWidgets": {},
     "nuid": "47d3a85b-ddff-4f76-a02e-61021f0aacd9",
     "showTitle": false,
     "title": ""
    }
   },
   "outputs": [],
   "source": []
  }
 ],
 "metadata": {
  "application/vnd.databricks.v1+notebook": {
   "dashboards": [],
   "language": "python",
   "notebookMetadata": {
    "pythonIndentUnit": 4
   },
   "notebookName": "Pyspark_CSV  2023-12-19 13:11:31",
   "widgets": {}
  }
 },
 "nbformat": 4,
 "nbformat_minor": 0
}
